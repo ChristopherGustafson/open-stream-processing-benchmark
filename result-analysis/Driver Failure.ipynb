{
 "cells": [
  {
   "cell_type": "markdown",
   "metadata": {},
   "source": [
    "# Metrics analysis - Driver Failure\n",
    "This notebook generates the chart for driver failures. "
   ]
  },
  {
   "cell_type": "code",
   "execution_count": 1,
   "metadata": {},
   "outputs": [
    {
     "name": "stdout",
     "output_type": "stream",
     "text": [
      "Will use input factor: 3.166667\n"
     ]
    }
   ],
   "source": [
    "# selectivity per run. This is required to compute the input throughput\n",
    "NOTEBOOK_PHASE = 3\n",
    "\n",
    "if (NOTEBOOK_PHASE == 1):\n",
    "    inputfactor = 1\n",
    "elif(NOTEBOOK_PHASE == 2):\n",
    "    inputfactor = 2\n",
    "elif(NOTEBOOK_PHASE == 3):\n",
    "    inputfactor = 3.166667\n",
    "    \n",
    "print(\"Will use input factor: \" + str(inputfactor))"
   ]
  },
  {
   "cell_type": "code",
   "execution_count": 2,
   "metadata": {
    "collapsed": true
   },
   "outputs": [],
   "source": [
    "# settings for saving plots\n",
    "saveplots = True\n",
    "dpiResolution = 200"
   ]
  },
  {
   "cell_type": "code",
   "execution_count": 3,
   "metadata": {
    "collapsed": true
   },
   "outputs": [],
   "source": [
    "import pyspark.sql.functions as F\n",
    "import numpy as np\n",
    "# Import to indent the plots in the notebook\n",
    "%matplotlib notebook\n",
    "%matplotlib inline\n",
    "import matplotlib\n",
    "import matplotlib.cm as cm\n",
    "import matplotlib.pyplot as plt\n",
    "import matplotlib.collections as collections\n",
    "import seaborn as sns\n",
    "from IPython.core.display import display, HTML\n",
    "from PIL import Image\n",
    "from matplotlib.lines import Line2D\n",
    "from matplotlib.ticker import AutoMinorLocator"
   ]
  },
  {
   "cell_type": "code",
   "execution_count": 4,
   "metadata": {
    "collapsed": true
   },
   "outputs": [],
   "source": [
    "# Python imports\n",
    "import pandas as pd \n",
    "from collections import defaultdict\n",
    "from datetime import timedelta\n",
    "from datetime import datetime\n",
    "import numpy as np\n",
    "import pytz\n",
    "import math\n",
    "\n",
    "# SQL imports\n",
    "from pyspark.sql.functions import *\n",
    "from pyspark.sql import Window\n",
    "from pyspark.sql import functions\n",
    "from pyspark.sql.types import IntegerType, LongType, DoubleType, TimestampType, StringType"
   ]
  },
  {
   "cell_type": "code",
   "execution_count": 5,
   "metadata": {
    "collapsed": true
   },
   "outputs": [],
   "source": [
    "# settings to get plots in the right style\n",
    "plt.style.use('ggplot')\n",
    "plt.style.use('seaborn-deep')\n",
    "plt.rcParams['font.family'] = 'sans-serif'\n",
    "plt.rcParams['font.serif'] = 'Ubuntu'\n",
    "plt.rcParams['font.monospace'] = 'Ubuntu Mono'\n",
    "plt.rcParams['font.size'] = 20\n",
    "plt.rcParams['axes.labelsize'] = 20\n",
    "plt.rcParams['axes.labelweight'] = 'normal'\n",
    "plt.rcParams['axes.labelcolor'] = 'black'\n",
    "plt.rcParams['axes.facecolor'] = 'white'\n",
    "plt.rcParams['axes.edgecolor'] = 'lightgrey'\n",
    "plt.rcParams['axes.titlesize'] = 20\n",
    "plt.rcParams['axes.titleweight'] = 'normal'\n",
    "plt.rcParams['figure.edgecolor'] = 'lightgrey'\n",
    "plt.rcParams['xtick.labelsize'] = 20\n",
    "plt.rcParams['ytick.labelsize'] = 20\n",
    "plt.rcParams['xtick.color'] = 'black'\n",
    "plt.rcParams['ytick.color'] = 'black'\n",
    "plt.rcParams['legend.fontsize'] = 20\n",
    "plt.rcParams['legend.edgecolor'] = 'lightgrey'\n",
    "plt.rcParams['figure.titlesize'] = 20\n",
    "plt.rcParams['figure.titleweight'] ='bold'\n",
    "plt.rcParams['grid.color'] = 'grey'\n",
    "plt.rcParams['grid.linestyle'] = ':'\n",
    "plt.rcParams['figure.facecolor'] = 'white'\n",
    "plt.rcParams['axes.spines.top'] = False\n",
    "plt.rcParams['axes.spines.right'] = False\n",
    "plt.rcParams['axes.spines.left'] = False\n",
    "plt.rcParams['axes.spines.bottom'] = True\n",
    "plt.rcParams['xtick.direction'] = 'out'\n",
    "plt.rcParams['ytick.direction'] ='out'\n",
    "plt.rcParams[\"date.autoformatter.minute\"] = \"%H:%M\"\n",
    "plt.rcParams[\"font.family\"] = \"Times New Roman\""
   ]
  },
  {
   "cell_type": "code",
   "execution_count": 6,
   "metadata": {
    "scrolled": false
   },
   "outputs": [
    {
     "data": {
      "text/html": [
       "\n",
       "            <div>\n",
       "                <p><b>SparkSession - hive</b></p>\n",
       "                \n",
       "        <div>\n",
       "            <p><b>SparkContext</b></p>\n",
       "\n",
       "            <p><a href=\"http://192.168.0.197:4049\">Spark UI</a></p>\n",
       "\n",
       "            <dl>\n",
       "              <dt>Version</dt>\n",
       "                <dd><code>v2.3.0</code></dd>\n",
       "              <dt>Master</dt>\n",
       "                <dd><code>local[*]</code></dd>\n",
       "              <dt>AppName</dt>\n",
       "                <dd><code>PySparkShell</code></dd>\n",
       "            </dl>\n",
       "        </div>\n",
       "        \n",
       "            </div>\n",
       "        "
      ],
      "text/plain": [
       "<pyspark.sql.session.SparkSession at 0x7f0b08e7f6d8>"
      ]
     },
     "execution_count": 6,
     "metadata": {},
     "output_type": "execute_result"
    }
   ],
   "source": [
    "# check if Spark is running\n",
    "spark"
   ]
  },
  {
   "cell_type": "code",
   "execution_count": 7,
   "metadata": {
    "collapsed": true
   },
   "outputs": [],
   "source": [
    "# List of which frameworks should be included in this comparison\n",
    "# Only Spark frameworks because they only have a driver.\n",
    "frameworks_that_could_be_in_the_data = [\"SPARK\", \"STRUCTUREDSTREAMING\"]\n",
    "frameworks = [\"SPARK_AMO\", \"SPARK_ALO\", \"STRUCTUREDSTREAMING_AMO\", \"STRUCTUREDSTREAMING_ALO\"]\n",
    "frameworksPrintable = {\n",
    "    \"SPARK\": \"Spark Streaming\", \n",
    "    \"STRUCTUREDSTREAMING\":\"Structured Streaming\"\n",
    "}\n",
    "stages=[\"ingest\", \"parse\", \"join\", \"aggregate\", \"window\"]"
   ]
  },
  {
   "cell_type": "code",
   "execution_count": 8,
   "metadata": {
    "collapsed": true
   },
   "outputs": [],
   "source": [
    "dataPath = dict()\n",
    "for i in frameworks_that_could_be_in_the_data:\n",
    "    dataPath[i + \"_AMO\"] =  \"./scalability-data/driver-failure/\" + i + \"/stage\" + str(NOTEBOOK_PHASE) + \"/5x-4cpu-20gb/AMO/*\"   \n",
    "    dataPath[i + \"_ALO\"] =  \"./scalability-data/driver-failure/\" + i + \"/stage\" + str(NOTEBOOK_PHASE) + \"/5x-4cpu-20gb/ALO/*\""
   ]
  },
  {
   "cell_type": "code",
   "execution_count": 9,
   "metadata": {},
   "outputs": [
    {
     "name": "stdout",
     "output_type": "stream",
     "text": [
      "The paths that will be read: \n"
     ]
    },
    {
     "data": {
      "text/plain": [
       "{'SPARK_ALO': './scalability-data/driver-failure/SPARK/stage3/5x-4cpu-20gb/ALO/*',\n",
       " 'SPARK_AMO': './scalability-data/driver-failure/SPARK/stage3/5x-4cpu-20gb/AMO/*',\n",
       " 'STRUCTUREDSTREAMING_ALO': './scalability-data/driver-failure/STRUCTUREDSTREAMING/stage3/5x-4cpu-20gb/ALO/*',\n",
       " 'STRUCTUREDSTREAMING_AMO': './scalability-data/driver-failure/STRUCTUREDSTREAMING/stage3/5x-4cpu-20gb/AMO/*'}"
      ]
     },
     "execution_count": 9,
     "metadata": {},
     "output_type": "execute_result"
    }
   ],
   "source": [
    "print(\"The paths that will be read: \")\n",
    "dataPath"
   ]
  },
  {
   "cell_type": "markdown",
   "metadata": {},
   "source": [
    "## General Methods"
   ]
  },
  {
   "cell_type": "code",
   "execution_count": 10,
   "metadata": {
    "collapsed": true
   },
   "outputs": [],
   "source": [
    "def datetimeFromEpoch(epoch):\n",
    "    return datetime.utcfromtimestamp(epoch//1000).replace(microsecond=epoch%1000*1000)\n",
    "\n",
    "datetimeFromEpochUDF = functions.udf(datetimeFromEpoch, TimestampType())"
   ]
  },
  {
   "cell_type": "code",
   "execution_count": 11,
   "metadata": {
    "collapsed": true
   },
   "outputs": [],
   "source": [
    "# method to save the image\n",
    "def save_img_colored_and_grayscale(path_colored_img):\n",
    "    if saveplots: \n",
    "        plt.savefig(path_colored_img + '.png', dpi=dpiResolution, bbox_inches=\"tight\", pad_inches = 0)\n",
    "        im = Image.open(path_colored_img + '.png').convert('L')\n",
    "        im.save(path_colored_img + '_grayscale.png', dpi=(300, 300))"
   ]
  },
  {
   "cell_type": "markdown",
   "metadata": {},
   "source": [
    "# Latency \n",
    "Read in latency data and transform in the right format for plotting."
   ]
  },
  {
   "cell_type": "code",
   "execution_count": null,
   "metadata": {},
   "outputs": [],
   "source": [
    "# Check if each framework had all containers running during the benchmark. To avoid including runs which had issues with some components. \n",
    "containerCheck = defaultdict(dict)\n",
    "for framework in frameworks:\n",
    "    try:\n",
    "        if framework == \"KAFKASTREAMS\":\n",
    "            requiredAmtContainers = 5 \n",
    "        elif framework == \"FLINK\": \n",
    "            requiredAmtContainers = 6\n",
    "        else:\n",
    "            requiredAmtContainers = 7\n",
    "            \n",
    "        containerCheckPhase = spark.read.option(\"header\", \"true\").option(\"inferSchema\", \"true\") \\\n",
    "        .csv(dataPath[framework] + \"/resources-per-container-timeseries.csv/*\")\n",
    "        amtOfContainers = containerCheckPhase.select(\"containerName\").distinct().count()\n",
    "        if amtOfContainers != requiredAmtContainers:\n",
    "            containerCheckPhase.select(\"containerName\").distinct().show()\n",
    "            print(\"WARNING FOR \" + framework + \" volume: \" + str(NOTEBOOK_PHASE) + \" amount of containers: \" + str(amtOfContainers))\n",
    "        else:\n",
    "            print(\"all checks passed for \" + framework)\n",
    "    except:\n",
    "        print('framework ' + framework + \" not in data\")"
   ]
  },
  {
   "cell_type": "markdown",
   "metadata": {},
   "source": [
    "Phases that are present in the data"
   ]
  },
  {
   "cell_type": "code",
   "execution_count": 14,
   "metadata": {
    "collapsed": true
   },
   "outputs": [],
   "source": [
    "latencyTimeseriesDataWithoutStartup = dict()\n",
    "for framework in frameworks:\n",
    "    latencyTimeseriesDataPhase = spark.read.option(\"header\", \"true\").option(\"inferSchema\", \"true\") \\\n",
    "        .csv(dataPath[framework] + \"/latency-timeseries-data-without-startup.csv/*\") \\\n",
    "        .withColumn(\"time\", datetimeFromEpochUDF(col(\"outputBucketTime\")))\n",
    "\n",
    "    minTimeSec = int(latencyTimeseriesDataPhase.select(\"startTime\").collect()[0][0]) / 60000\n",
    "    latencyTimeseriesDataWithoutStartup[framework] = latencyTimeseriesDataPhase.withColumn(\"timeSec\", (col(\"outputBucketTime\")/60000.0)-minTimeSec)"
   ]
  },
  {
   "cell_type": "markdown",
   "metadata": {},
   "source": [
    "# Throughput"
   ]
  },
  {
   "cell_type": "markdown",
   "metadata": {},
   "source": [
    "## Stage 0 throughput"
   ]
  },
  {
   "cell_type": "code",
   "execution_count": 16,
   "metadata": {
    "collapsed": true
   },
   "outputs": [],
   "source": [
    "throughputTimeseriesDataWithStartup = dict()\n",
    "for framework in frameworks:\n",
    "    throughputTimeseriesDataWithStartupPhase = spark.read.option(\"header\", \"true\").option(\"inferSchema\", \"true\") \\\n",
    "        .csv(dataPath[framework] + \"/output-throughput-timeseries-second-buckets.csv/*\") \\\n",
    "        .withColumn(\"time\", datetimeFromEpochUDF(col(\"outputBucketTime\")))    \n",
    "\n",
    "    minTimeSec = int(throughputTimeseriesDataWithStartupPhase.select(\"startTime\").collect()[0][0]) / 60000\n",
    "    throughputTimeseriesDataWithStartup[framework] = throughputTimeseriesDataWithStartupPhase.withColumn(\"timeSec\", (col(\"outputBucketTime\")/60000.0)-minTimeSec)\n",
    "\n",
    "inputThroughputTimeseriesDataWithStartup = dict()\n",
    "for framework in frameworks:\n",
    "    inputThroughputTimeseriesDataWithStartupPhase = spark.read.option(\"header\", \"true\").option(\"inferSchema\", \"true\") \\\n",
    "        .csv(dataPath[framework] + \"/input-throughput-timeseries-second-buckets.csv/*\") \\\n",
    "        .withColumn(\"time\", datetimeFromEpochUDF(col(\"inputBucketTime\")))    \n",
    "\n",
    "    minTimeSec = int(inputThroughputTimeseriesDataWithStartupPhase.select(\"startTime\").collect()[0][0]) / 60000\n",
    "    inputThroughputTimeseriesDataWithStartup[framework] = inputThroughputTimeseriesDataWithStartupPhase.withColumn(\"timeSec\", (col(\"inputBucketTime\")/60000.0)-minTimeSec)\n"
   ]
  },
  {
   "cell_type": "markdown",
   "metadata": {},
   "source": [
    "# CPU "
   ]
  },
  {
   "cell_type": "code",
   "execution_count": 18,
   "metadata": {
    "collapsed": true
   },
   "outputs": [],
   "source": [
    "cpuTimeseries = dict()\n",
    "for framework in frameworks:\n",
    "    try:\n",
    "        cpuTimeseries[framework] = spark.read.option(\"header\", \"true\").option(\"inferSchema\", \"true\") \\\n",
    "            .csv(dataPath[framework] + \"/cpu-per-container-timeseries.csv/*\") \\\n",
    "            .withColumn(\"timeParsed\", datetimeFromEpochUDF(col(\"time\")))\n",
    "    except:\n",
    "        print(\"didnt work for \" + framework)"
   ]
  },
  {
   "cell_type": "code",
   "execution_count": 19,
   "metadata": {
    "collapsed": true
   },
   "outputs": [],
   "source": [
    "containersPandas = dict()\n",
    "for framework in frameworks:\n",
    "    containersPandas[framework] = cpuTimeseries[framework].select(\"containerName\").distinct().toPandas()"
   ]
  },
  {
   "cell_type": "code",
   "execution_count": 20,
   "metadata": {
    "collapsed": true
   },
   "outputs": [],
   "source": [
    "# You can use this to assign different colors to the different workers in the plot. We didn't use this here.\n",
    "# Map label to RGB\n",
    "color_map = dict()\n",
    "for framework in frameworks:\n",
    "    #Assign different color to each container\n",
    "    rgb_values = sns.diverging_palette(255, 133, l=60, n=len(containersPandas[framework]), center=\"dark\")\n",
    "    color_map[framework] = dict(zip(containersPandas[framework]['containerName'], rgb_values))"
   ]
  },
  {
   "cell_type": "code",
   "execution_count": 21,
   "metadata": {},
   "outputs": [
    {
     "data": {
      "image/png": "[encoded data removed]",
      "text/plain": [
       "<Figure size 288x72 with 1 Axes>"
      ]
     },
     "metadata": {},
     "output_type": "display_data"
    }
   ],
   "source": [
    "sns.palplot(sns.diverging_palette(255, 133, l=60, n=len(containersPandas), center=\"dark\"))"
   ]
  },
  {
   "cell_type": "code",
   "execution_count": 22,
   "metadata": {
    "collapsed": true
   },
   "outputs": [],
   "source": [
    "# Map label to RGB\n",
    "color_map = defaultdict(dict)\n",
    "for framework in frameworks:\n",
    "    #Assign different color to each container:\n",
    "    rgb_values = sns.husl_palette(len(containersPandas[framework]), h=0.4, l=0.65, s=1) \n",
    "    color_map[framework] = dict(zip(containersPandas[framework]['containerName'], rgb_values))"
   ]
  },
  {
   "cell_type": "code",
   "execution_count": 23,
   "metadata": {
    "collapsed": true
   },
   "outputs": [],
   "source": [
    "cpuTimeseriesDataWithStartup = dict()\n",
    "for framework in frameworks:\n",
    "    cpuOfPhasePerContainer = spark.read.option(\"header\", \"true\").option(\"inferSchema\", \"true\") \\\n",
    "        .csv(dataPath[framework] + \"/cpu-per-container-timeseries.csv/*\") \\\n",
    "        .withColumn(\"timeParsed\", datetimeFromEpochUDF(col(\"time\")))\n",
    "\n",
    "    minTimeSec = int(cpuOfPhasePerContainer.select(\"startTime\").collect()[0][0]) / 60000\n",
    "    cpuTimeseriesDataWithStartup[framework] = cpuOfPhasePerContainer \\\n",
    "        .withColumn(\"timeSec\", (col(\"time\")/60000.0)-minTimeSec)\n",
    "cpuTimeseriesDataWithoutStartup = dict()\n",
    "for framework in frameworks:  \n",
    "    cpuTimeseriesDataPhase = cpuTimeseriesDataWithStartup[framework]\n",
    "    if len(cpuTimeseriesDataPhase.head(1)) > 0:\n",
    "        startTime = cpuTimeseriesDataPhase.agg(F.min(\"time\")).collect()[0][0]\n",
    "        cpuWithoutStartup = cpuTimeseriesDataPhase \\\n",
    "            .filter(col(\"time\")>startTime + 120000)\n",
    "\n",
    "        minTimeSec = int(cpuTimeseriesDataPhase.select(\"startTime\").collect()[0][0]) / 60000\n",
    "        cpuTimeseriesDataWithoutStartup[framework] = cpuWithoutStartup \\\n",
    "            .withColumn(\"timeSec\", (col(\"time\")/60000.0)-minTimeSec)\n",
    "    else:\n",
    "        print(\"No data for stage \" + str(i))"
   ]
  },
  {
   "cell_type": "code",
   "execution_count": 24,
   "metadata": {
    "collapsed": true
   },
   "outputs": [],
   "source": [
    "containersPandasPerPhase = dict()\n",
    "for framework in frameworks:\n",
    "    containersPandasPerPhase[framework] = cpuTimeseriesDataWithStartup[framework] \\\n",
    "        .select(\"containerName\").distinct().orderBy(\"containerName\").toPandas()"
   ]
  },
  {
   "cell_type": "markdown",
   "metadata": {},
   "source": [
    "# Metric correlations\n",
    "Plotting different metrics for a certain stage together."
   ]
  },
  {
   "cell_type": "markdown",
   "metadata": {},
   "source": [
    "For generating a chart of the four metrics"
   ]
  },
  {
   "cell_type": "code",
   "execution_count": 26,
   "metadata": {
    "collapsed": true
   },
   "outputs": [],
   "source": [
    "def generateDriverFailureChart(colNum, containersPandas, latencyPandas, throughputPandas, inputThroughputPandas, cpuPandas, start, end):\n",
    "    minor_x_locator = AutoMinorLocator(3) # how many minor grid lines in between two major grid lines for x axis\n",
    "    \n",
    "    pct01_line, = ax[0, colNum].plot(latencyPandas[\"timeSec\"], latencyPandas[\"percentile_01_second\"], color=\"#a8a8a8\", linestyle=\"--\", label = \"1p\")\n",
    "    pct50_line, = ax[0, colNum].plot(latencyPandas[\"timeSec\"], latencyPandas[\"percentile_50_second\"], color=\"#7e7e7e\", linestyle=\"solid\", label = \"50p\")\n",
    "    pct99_line, = ax[0, colNum].plot(latencyPandas[\"timeSec\"], latencyPandas[\"percentile_99_second\"], color=\"#151515\", linestyle=\"solid\", label = \"99p\")\n",
    "    ax[0, colNum].xaxis.set_minor_locator(minor_x_locator)\n",
    "    minor_y_locator_1 = AutoMinorLocator(2) # how many minor grid lines in between two major grid lines for y axis\n",
    "    ax[0, colNum].yaxis.set_minor_locator(minor_y_locator_1)\n",
    "    ax[0, colNum].grid(which='minor', color='black')\n",
    "    ax[0, colNum].get_yaxis().set_major_formatter(\n",
    "        matplotlib.ticker.FuncFormatter(lambda x, p: format(int(x/1000.0), ',').replace(',', ' ') + \" s\"))\n",
    "    \n",
    "    tp_line2 = ax[1, colNum].scatter(inputThroughputPandas[\"timeSec\"], inputThroughputPandas[\"inputMsgCount\"].multiply(inputfactor), s=5, label = \"input\", color=\"#7e7e7e\")\n",
    "    ax[1, colNum].get_yaxis().set_major_formatter(\n",
    "        matplotlib.ticker.FuncFormatter(lambda x, p: format(int(x/1000.0), ',').replace(',', ' ') + \"K\"))\n",
    "    ax[1, colNum].xaxis.set_minor_locator(minor_x_locator)\n",
    "    ax[1, colNum].grid(which='minor', color='black')\n",
    "  \n",
    "    \n",
    "    tp_line1 = ax[2, colNum].scatter(throughputPandas[\"timeSec\"], throughputPandas[\"outputMsgCount\"], s=5, label = \"output\", color=\"#151515\")\n",
    "    ax[2, colNum].get_yaxis().set_major_formatter(\n",
    "        matplotlib.ticker.FuncFormatter(lambda x, p: format(int(x/1000.0), ',').replace(',', ' ') + \"K\"))\n",
    "    ax[2, colNum].xaxis.set_minor_locator(minor_x_locator)\n",
    "    ax[2, colNum].grid(which='minor', color='black')\n",
    "\n",
    "    cpuTimeseriesDataWithStartupPhase = cpuTimeseriesDataWithStartup[framework]\\\n",
    "        .filter((col(\"timeSec\") >start) & (col(\"timeSec\")<end)).toPandas()\n",
    "    for contNum, containerId in enumerate(containersPandasPerPhase[framework]['containerName']):\n",
    "        if \"FLINK\" in framework: label = \"taskmanager-\" + str(contNum)\n",
    "        else: label = containerId\n",
    "        data = cpuTimeseriesDataWithStartupPhase.loc[cpuTimeseriesDataWithStartupPhase['containerName'] == containerId]\n",
    "        cpu_worker_line, = ax[3, colNum].plot(data['timeSec'], data['cpuUsagePct'], \n",
    "               c=\"black\", linestyle=\":\", label=\"cpu usage worker\")\n",
    "\n",
    "    ax[3, colNum].set_ylim(ymin=0, ymax=110)\n",
    "    ax[3, colNum].xaxis.set_minor_locator(minor_x_locator)\n",
    "    minor_y_locator_3 = AutoMinorLocator(2) # how many minor grid lines in between two major grid lines for y axis\n",
    "    ax[3, colNum].yaxis.set_minor_locator(minor_y_locator_3)\n",
    "    ax[3, colNum].grid(which='minor', color='black')\n",
    "    ax[3, colNum].get_yaxis().set_major_formatter(\n",
    "        matplotlib.ticker.FuncFormatter(lambda x, p: str(int(x)) + \" %\"))\n",
    "\n",
    "    if (colNum == 0):\n",
    "        ax[0, colNum].set_ylabel(\"latency\")\n",
    "        ax[1, colNum].set_ylabel(\"input\\nthroughput\\nmsg/s\")\n",
    "        ax[2, colNum].set_ylabel(\"output\\nthroughput\\nmsg/s\")\n",
    "        ax[3, colNum].set_ylabel(\"CPU\")\n",
    "    \n",
    "    if (colNum == len(frameworks)-1):\n",
    "        ax[0, colNum].legend(loc = \"upper right\", ncol=4, bbox_to_anchor=(1, 1.45), framealpha=1.0, frameon=False)\n",
    "        ax[2, colNum].legend(loc = \"upper right\", ncol=3, bbox_to_anchor=(1, 1.45), framealpha=0.5, frameon=False)\n",
    "        ax[1, colNum].legend(loc = \"upper right\", ncol=3, bbox_to_anchor=(1, 1.45), framealpha=0.5, frameon=False)\n",
    "        ax[3, colNum].legend([cpu_worker_line], [\"per worker\"], loc = \"upper right\", bbox_to_anchor=(1, 1.45), frameon=False)"
   ]
  },
  {
   "cell_type": "code",
   "execution_count": 29,
   "metadata": {},
   "outputs": [
    {
     "name": "stdout",
     "output_type": "stream",
     "text": [
      "SPARK_AMO\n",
      "SPARK_ALO\n",
      "STRUCTUREDSTREAMING_AMO\n",
      "STRUCTUREDSTREAMING_ALO\n"
     ]
    }
   ],
   "source": [
    "stageLatencyPandasShortSample = dict()\n",
    "stageThroughputPandasShortSample = dict()\n",
    "stageInputThroughputPandasShortSample = dict()\n",
    "stageCpuPandasShortSample = dict()\n",
    "start = 10\n",
    "end = 15\n",
    "for j, framework in enumerate(frameworks):\n",
    "    print(framework)\n",
    "    stageLatencyPandasShortSample[framework] = latencyTimeseriesDataWithoutStartup[framework].orderBy(\"timeSec\") \\\n",
    "        .filter((col(\"timeSec\") >start) & (col(\"timeSec\")<end)).toPandas()\n",
    "    stageThroughputPandasShortSample[framework] = throughputTimeseriesDataWithStartup[framework].orderBy(\"timeSec\") \\\n",
    "        .filter((col(\"timeSec\") >start) & (col(\"timeSec\")<end)).toPandas()\n",
    "    stageInputThroughputPandasShortSample[framework] = inputThroughputTimeseriesDataWithStartup[framework].orderBy(\"timeSec\") \\\n",
    "        .filter((col(\"timeSec\") >start) & (col(\"timeSec\")<end)).toPandas()\n",
    "    stageCpuPandasShortSample[framework] = cpuTimeseriesDataWithoutStartup[framework].orderBy(\"timeSec\") \\\n",
    "        .filter((col(\"timeSec\") >start) & (col(\"timeSec\")<end)).toPandas()"
   ]
  },
  {
   "cell_type": "code",
   "execution_count": 30,
   "metadata": {
    "scrolled": false
   },
   "outputs": [
    {
     "data": {
      "image/png": "[encoded data removed]",
      "text/plain": [
       "<Figure size 648x576 with 16 Axes>"
      ]
     },
     "metadata": {},
     "output_type": "display_data"
    }
   ],
   "source": [
    "# frameworks=[\"FLINK\", \"KAFKASTREAMS\", \"SPARK\", \"STRUCTUREDSTREAMING\"]\n",
    "frameworksPrintable2 = {\n",
    "    \"SPARK_AMO\": \"Spark Str. \\n at-most-once\", \n",
    "    \"SPARK_ALO\": \"Spark Str. \\n at-least-once\", \n",
    "    \"STRUCTUREDSTREAMING_AMO\": \"Structured Str. \\n at-most-once\",\n",
    "    \"STRUCTUREDSTREAMING_ALO\": \"Structured Str. \\n at-least-once\"\n",
    "}\n",
    "f, ax = plt.subplots(4, 4,figsize=(9, 8), sharey='row', sharex='col')\n",
    "pad = 5\n",
    "\n",
    "\n",
    "for j, framework in enumerate(frameworks):\n",
    "    generateDriverFailureChart(j, containersPandas=containersPandas, \\\n",
    "                           latencyPandas=stageLatencyPandasShortSample[framework], \\\n",
    "                           throughputPandas=stageThroughputPandasShortSample[framework], \\\n",
    "                           inputThroughputPandas=stageInputThroughputPandasShortSample[framework], \\\n",
    "                           cpuPandas=stageCpuPandasShortSample[framework])\n",
    "    ax[0, j].annotate(frameworksPrintable2[framework], xy=(0.5, 1.25), xytext=(0, pad),\n",
    "            xycoords='axes fraction', textcoords='offset points',\n",
    "            size='medium', ha='center', va='baseline')\n",
    "\n",
    "plt.subplots_adjust(wspace=0.1, hspace=0.35)\n",
    "\n",
    "save_img_colored_and_grayscale(\"./figures/driver-failure/overall/phase\" + str(NOTEBOOK_PHASE) + \"/driver_failure\")\n",
    "plt.show()"
   ]
  },
  {
   "cell_type": "code",
   "execution_count": null,
   "metadata": {
    "collapsed": true
   },
   "outputs": [],
   "source": []
  }
 ],
 "metadata": {
  "kernelspec": {
   "display_name": "Python 3",
   "language": "python",
   "name": "python3"
  },
  "language_info": {
   "codemirror_mode": {
    "name": "ipython",
    "version": 3
   },
   "file_extension": ".py",
   "mimetype": "text/x-python",
   "name": "python",
   "nbconvert_exporter": "python",
   "pygments_lexer": "ipython3",
   "version": "3.6.6"
  }
 },
 "nbformat": 4,
 "nbformat_minor": 2
}
