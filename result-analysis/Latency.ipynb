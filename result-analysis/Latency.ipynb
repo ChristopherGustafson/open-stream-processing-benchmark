{
 "cells": [
  {
   "cell_type": "markdown",
   "metadata": {},
   "source": [
    "# Latency\n",
    "This notebook analyzes the latency workload."
   ]
  },
  {
   "cell_type": "code",
   "execution_count": 892,
   "metadata": {
    "collapsed": true
   },
   "outputs": [],
   "source": [
    "# settings for saving plots\n",
    "saveplots = True\n",
    "dpiResolution = 100\n",
    "framework = \"KAFKASTREAMS\""
   ]
  },
  {
   "cell_type": "code",
   "execution_count": 893,
   "metadata": {
    "collapsed": true
   },
   "outputs": [],
   "source": [
    "from pyspark.sql.functions import *\n",
    "import numpy as np\n",
    "# Import to indent the plots in the notebook\n",
    "%matplotlib notebook\n",
    "%matplotlib inline\n",
    "import matplotlib\n",
    "import matplotlib.cm as cm\n",
    "import matplotlib.pyplot as plt\n",
    "import matplotlib.collections as collections\n",
    "import seaborn as sns\n",
    "from IPython.core.display import display, HTML\n",
    "from PIL import Image\n",
    "from matplotlib.offsetbox import (TextArea, DrawingArea, OffsetImage,\n",
    "                                  AnnotationBbox)\n",
    "warnings.simplefilter('ignore', Image.DecompressionBombWarning)\n",
    "import matplotlib.gridspec as gridspec\n",
    "\n",
    "from matplotlib.lines import Line2D"
   ]
  },
  {
   "cell_type": "code",
   "execution_count": 894,
   "metadata": {
    "collapsed": true
   },
   "outputs": [],
   "source": [
    "# Python imports\n",
    "import pandas as pd \n",
    "from collections import defaultdict\n",
    "from datetime import timedelta\n",
    "from datetime import datetime\n",
    "import numpy as np\n",
    "import pytz\n",
    "import math\n",
    "\n",
    "# SQL imports\n",
    "from pyspark.sql.functions import isnan, when, count, col, lead, udf, lag, to_date, avg, desc, sum\n",
    "from pyspark.sql import Window\n",
    "from pyspark.sql import functions\n",
    "from pyspark.sql.types import IntegerType, LongType, DoubleType, TimestampType, StringType"
   ]
  },
  {
   "cell_type": "code",
   "execution_count": 895,
   "metadata": {
    "collapsed": true
   },
   "outputs": [],
   "source": [
    "plt.style.use('ggplot')\n",
    "plt.style.use('seaborn-deep')\n",
    "plt.rcParams['font.family'] = 'sans-serif'\n",
    "plt.rcParams['font.serif'] = 'Ubuntu'\n",
    "plt.rcParams['font.monospace'] = 'Ubuntu Mono'\n",
    "plt.rcParams['font.size'] = 22\n",
    "plt.rcParams['axes.labelsize'] = 22\n",
    "plt.rcParams['axes.labelweight'] = 'normal'\n",
    "plt.rcParams['axes.labelcolor'] = 'black'\n",
    "plt.rcParams['axes.facecolor'] = 'white'\n",
    "plt.rcParams['axes.edgecolor'] = 'lightgrey'\n",
    "plt.rcParams['axes.titlesize'] = 22\n",
    "plt.rcParams['axes.titleweight'] = 'normal'\n",
    "plt.rcParams['figure.edgecolor'] = 'lightgrey'\n",
    "plt.rcParams['xtick.labelsize'] = 22\n",
    "plt.rcParams['ytick.labelsize'] = 22\n",
    "plt.rcParams['legend.fontsize'] = 22\n",
    "plt.rcParams['figure.titlesize'] = 22\n",
    "plt.rcParams['figure.titleweight'] ='bold'\n",
    "plt.rcParams['grid.color'] = 'grey'\n",
    "plt.rcParams['grid.linestyle'] = ':'\n",
    "plt.rcParams['figure.facecolor'] = 'white'\n",
    "plt.rcParams['axes.spines.top'] = False\n",
    "plt.rcParams['axes.spines.right'] = False\n",
    "plt.rcParams['axes.spines.left'] = False\n",
    "plt.rcParams['axes.spines.bottom'] = False\n",
    "plt.rcParams['xtick.direction'] = 'out'\n",
    "plt.rcParams['ytick.direction'] ='out'\n",
    "plt.rcParams['xtick.color'] = 'black'\n",
    "plt.rcParams['ytick.color'] = 'black'\n",
    "plt.rcParams[\"date.autoformatter.minute\"] = \"%H:%M\"\n",
    "plt.rcParams[\"font.family\"] = \"Times New Roman\"\n",
    "plt.rc('axes',edgecolor='black')"
   ]
  },
  {
   "cell_type": "code",
   "execution_count": 896,
   "metadata": {
    "scrolled": false
   },
   "outputs": [
    {
     "data": {
      "text/html": [
       "\n",
       "            <div>\n",
       "                <p><b>SparkSession - hive</b></p>\n",
       "                \n",
       "        <div>\n",
       "            <p><b>SparkContext</b></p>\n",
       "\n",
       "            <p><a href=\"http://192.168.0.197:4049\">Spark UI</a></p>\n",
       "\n",
       "            <dl>\n",
       "              <dt>Version</dt>\n",
       "                <dd><code>v2.3.0</code></dd>\n",
       "              <dt>Master</dt>\n",
       "                <dd><code>local[*]</code></dd>\n",
       "              <dt>AppName</dt>\n",
       "                <dd><code>PySparkShell</code></dd>\n",
       "            </dl>\n",
       "        </div>\n",
       "        \n",
       "            </div>\n",
       "        "
      ],
      "text/plain": [
       "<pyspark.sql.session.SparkSession at 0x7f7ba9e416d8>"
      ]
     },
     "execution_count": 896,
     "metadata": {},
     "output_type": "execute_result"
    }
   ],
   "source": [
    "spark"
   ]
  },
  {
   "cell_type": "code",
   "execution_count": 897,
   "metadata": {},
   "outputs": [],
   "source": [
    "frameworks_that_could_be_in_the_data = [framework]\n",
    "frameworksPrinted= {\n",
    "    \"SPARK\":\"Spark Streaming\",\n",
    "    \"STRUCTUREDSTREAMING\":\"Structured Streaming\",\n",
    "    \"FLINK\":\"Flink\",\n",
    "    \"KAFKASTREAMS\":\"Kafka Streams\"\n",
    "}\n",
    "\n",
    "windowtypes = [\"custom\", \"normal\"]\n",
    "\n",
    "stages=[\"ingest\", \"parse\", \"join\", \"tumbling \\n window\", \"sliding \\n window\"]"
   ]
  },
  {
   "cell_type": "code",
   "execution_count": 898,
   "metadata": {
    "collapsed": true
   },
   "outputs": [],
   "source": [
    "dataPath = defaultdict(dict)\n",
    "i = framework\n",
    "for p in [0,1,2,3,4]:\n",
    "    dataPath[p][\"custom\"] = \"./data/\" + i + \"/latency-constant-rate/custom-windows/*\"\n",
    "    dataPath[p][\"normal\"] = \"./data/\" + i + \"/latency-constant-rate/normal-windows/*\"\n",
    "    "
   ]
  },
  {
   "cell_type": "code",
   "execution_count": 899,
   "metadata": {},
   "outputs": [
    {
     "data": {
      "text/plain": [
       "defaultdict(dict,\n",
       "            {0: {'custom': './data/KAFKASTREAMS/latency-constant-rate/custom-windows/*',\n",
       "              'normal': './data/KAFKASTREAMS/latency-constant-rate/normal-windows/*'},\n",
       "             1: {'custom': './data/KAFKASTREAMS/latency-constant-rate/custom-windows/*',\n",
       "              'normal': './data/KAFKASTREAMS/latency-constant-rate/normal-windows/*'},\n",
       "             2: {'custom': './data/KAFKASTREAMS/latency-constant-rate/custom-windows/*',\n",
       "              'normal': './data/KAFKASTREAMS/latency-constant-rate/normal-windows/*'},\n",
       "             3: {'custom': './data/KAFKASTREAMS/latency-constant-rate/custom-windows/*',\n",
       "              'normal': './data/KAFKASTREAMS/latency-constant-rate/normal-windows/*'},\n",
       "             4: {'custom': './data/KAFKASTREAMS/latency-constant-rate/custom-windows/*',\n",
       "              'normal': './data/KAFKASTREAMS/latency-constant-rate/normal-windows/*'}})"
      ]
     },
     "execution_count": 899,
     "metadata": {},
     "output_type": "execute_result"
    }
   ],
   "source": [
    "dataPath"
   ]
  },
  {
   "cell_type": "markdown",
   "metadata": {},
   "source": [
    "## General Methods"
   ]
  },
  {
   "cell_type": "markdown",
   "metadata": {},
   "source": [
    "For printing the quantiles of a column:\n",
    "provide a list of quantiles"
   ]
  },
  {
   "cell_type": "code",
   "execution_count": 900,
   "metadata": {
    "collapsed": true,
    "scrolled": false
   },
   "outputs": [],
   "source": [
    "def printApproxQuantiles(df, colName, quantiles):\n",
    "    quantileList = df.approxQuantile(colName, quantiles, 0)\n",
    "    print(\"Quantiles for feature %s:\" % (colName))\n",
    "    for i in range(len(quantiles)):\n",
    "        print(\"Quantile %.3f: %.1f\" % (quantiles[i], quantileList[i]))"
   ]
  },
  {
   "cell_type": "code",
   "execution_count": 901,
   "metadata": {
    "collapsed": true
   },
   "outputs": [],
   "source": [
    "def datetimeFromEpoch(epoch):\n",
    "    return datetime.utcfromtimestamp(epoch//1000).replace(microsecond=epoch%1000*1000)\n",
    "\n",
    "datetimeFromEpochUDF = functions.udf(datetimeFromEpoch, TimestampType())"
   ]
  },
  {
   "cell_type": "code",
   "execution_count": 902,
   "metadata": {
    "collapsed": true
   },
   "outputs": [],
   "source": [
    "def phase_to_stage(i):\n",
    "    stages=[\"ingest\", \"parse\", \"join\", \"tumbling\\nwindow\", \"sliding\\nwindow\"]\n",
    "    return stages[i]"
   ]
  },
  {
   "cell_type": "code",
   "execution_count": 903,
   "metadata": {
    "collapsed": true
   },
   "outputs": [],
   "source": [
    "def set_annotations(y_pos=1, annotate_frameworks=True):\n",
    "    pad = 5\n",
    "    if annotate_frameworks:\n",
    "        for axis, framework in zip(ax[0], frameworks):\n",
    "            axis.annotate(framework, xy=(0.5, y_pos), xytext=(0, pad),\n",
    "                    xycoords='axes fraction', textcoords='offset points',\n",
    "                    size='medium', ha='center', va='baseline')\n",
    "\n",
    "    for axis, stage in zip(ax[:,0], stages):\n",
    "        axis.annotate(stage, xy=(0, 0.5), xytext=(-axis.yaxis.labelpad - pad, 0),\n",
    "                    xycoords=axis.yaxis.label, textcoords='offset points',\n",
    "                    size='medium', ha='right', va='center', rotation='vertical')"
   ]
  },
  {
   "cell_type": "code",
   "execution_count": 904,
   "metadata": {
    "collapsed": true
   },
   "outputs": [],
   "source": [
    "def save_img_colored_and_grayscale(path_colored_img):\n",
    "    if saveplots: \n",
    "        plt.savefig(path_colored_img + '.png', dpi=dpiResolution, bbox_inches=\"tight\", pad_inches=0.08)\n",
    "        im = Image.open(path_colored_img + '.png').convert('L')\n",
    "        im.save(path_colored_img + '_grayscale.png', dpi=(300, 300))"
   ]
  },
  {
   "cell_type": "code",
   "execution_count": 905,
   "metadata": {
    "collapsed": true
   },
   "outputs": [],
   "source": [
    "def to_float(a):\n",
    "    try:\n",
    "        return float(a)\n",
    "    except:\n",
    "        return float(a.replace(\",\", \"\"))"
   ]
  },
  {
   "cell_type": "markdown",
   "metadata": {},
   "source": [
    "# Latency \n",
    "Read in latency data and transform in the right format for plotting."
   ]
  },
  {
   "cell_type": "code",
   "execution_count": 906,
   "metadata": {},
   "outputs": [
    {
     "data": {
      "text/plain": [
       "defaultdict(dict,\n",
       "            {0: {'custom': './data/KAFKASTREAMS/latency-constant-rate/custom-windows/*',\n",
       "              'normal': './data/KAFKASTREAMS/latency-constant-rate/normal-windows/*'},\n",
       "             1: {'custom': './data/KAFKASTREAMS/latency-constant-rate/custom-windows/*',\n",
       "              'normal': './data/KAFKASTREAMS/latency-constant-rate/normal-windows/*'},\n",
       "             2: {'custom': './data/KAFKASTREAMS/latency-constant-rate/custom-windows/*',\n",
       "              'normal': './data/KAFKASTREAMS/latency-constant-rate/normal-windows/*'},\n",
       "             3: {'custom': './data/KAFKASTREAMS/latency-constant-rate/custom-windows/*',\n",
       "              'normal': './data/KAFKASTREAMS/latency-constant-rate/normal-windows/*'},\n",
       "             4: {'custom': './data/KAFKASTREAMS/latency-constant-rate/custom-windows/*',\n",
       "              'normal': './data/KAFKASTREAMS/latency-constant-rate/normal-windows/*'}})"
      ]
     },
     "execution_count": 906,
     "metadata": {},
     "output_type": "execute_result"
    }
   ],
   "source": [
    "dataPath"
   ]
  },
  {
   "cell_type": "code",
   "execution_count": 907,
   "metadata": {},
   "outputs": [],
   "source": [
    "# Save the data in here\n",
    "completeResults = dict()\n",
    "\n",
    "# Save the frameworks present in the data in here\n",
    "frameworks = [framework]\n",
    "phases = {\"custom\": [], \"normal\": []}\n",
    "\n",
    "for windowtype in windowtypes:\n",
    "    try:\n",
    "        completeResults[windowtype] = spark.read.option(\"header\", \"true\").option(\"inferSchema\", \"true\") \\\n",
    "            .csv(dataPath[phase][windowtype] + \"/results.csv/*\")\n",
    "        phases[windowtype] = list(completeResults[windowtype].select(col(\"phase\")).distinct().orderBy(col(\"phase\")).toPandas()[\"phase\"])\n",
    "    except:\n",
    "        print(\"no data for \" + str(windowtype))"
   ]
  },
  {
   "cell_type": "code",
   "execution_count": 908,
   "metadata": {},
   "outputs": [
    {
     "data": {
      "text/plain": [
       "{'custom': [3, 4], 'normal': [0, 1, 2, 3, 4]}"
      ]
     },
     "execution_count": 908,
     "metadata": {},
     "output_type": "execute_result"
    }
   ],
   "source": [
    "phases"
   ]
  },
  {
   "cell_type": "code",
   "execution_count": 909,
   "metadata": {},
   "outputs": [],
   "source": [
    "# # Save the frameworks present in the data in here\n",
    "# containerCheck = defaultdict(dict)\n",
    "\n",
    "# for phase in unique_phases:\n",
    "#     for windowtype in windowtypes:\n",
    "#         try:\n",
    "#             print(str(phase) + str(windowtype))\n",
    "#             if framework == \"KAFKASTREAMS\":\n",
    "#                 requiredAmtContainers = 5 \n",
    "#             elif framework == \"FLINK\": \n",
    "#                 requiredAmtContainers = 6\n",
    "#             else:\n",
    "#                 requiredAmtContainers = 6\n",
    "#             containerCheckPhase = spark.read.option(\"header\", \"true\").option(\"inferSchema\", \"true\") \\\n",
    "#             .csv(dataPath[phase][windowtype] + \"/cpu-per-container-timeseries.csv/*\").filter(col(\"phase\")==phase)\n",
    "#             amtOfContainers = containerCheckPhase.select(\"containerName\").distinct().count()\n",
    "#             phases[windowtype].append(phase)\n",
    "                \n",
    "#         except:\n",
    "#             print(\"no data for: \" + str(phase) + \" - \" + windowtype)"
   ]
  },
  {
   "cell_type": "code",
   "execution_count": 910,
   "metadata": {},
   "outputs": [
    {
     "name": "stdout",
     "output_type": "stream",
     "text": [
      "{'custom': [3, 4], 'normal': [0, 1, 2, 3, 4]}\n"
     ]
    }
   ],
   "source": [
    "print(phases)"
   ]
  },
  {
   "cell_type": "code",
   "execution_count": 911,
   "metadata": {},
   "outputs": [
    {
     "name": "stdout",
     "output_type": "stream",
     "text": [
      "Unique phases in the data: [0, 1, 2, 3, 4]\n",
      "Frameworks in the data: ['KAFKASTREAMS']\n",
      "Phases per framework: \n"
     ]
    },
    {
     "data": {
      "text/plain": [
       "{'custom': [3, 4], 'normal': [0, 1, 2, 3, 4]}"
      ]
     },
     "metadata": {},
     "output_type": "display_data"
    }
   ],
   "source": [
    "print(\"Unique phases in the data: \" + str(unique_phases))\n",
    "print(\"Frameworks in the data: \" + str(frameworks))\n",
    "print(\"Phases per framework: \")\n",
    "display(phases)"
   ]
  },
  {
   "cell_type": "code",
   "execution_count": 912,
   "metadata": {
    "scrolled": false
   },
   "outputs": [
    {
     "data": {
      "text/html": [
       "<div>\n",
       "<style scoped>\n",
       "    .dataframe tbody tr th:only-of-type {\n",
       "        vertical-align: middle;\n",
       "    }\n",
       "\n",
       "    .dataframe tbody tr th {\n",
       "        vertical-align: top;\n",
       "    }\n",
       "\n",
       "    .dataframe thead th {\n",
       "        text-align: right;\n",
       "    }\n",
       "</style>\n",
       "<table border=\"1\" class=\"dataframe\">\n",
       "  <thead>\n",
       "    <tr style=\"text-align: right;\">\n",
       "      <th></th>\n",
       "      <th>framework</th>\n",
       "      <th>phase</th>\n",
       "      <th>scale</th>\n",
       "      <th>bufferTimeout</th>\n",
       "      <th>shortLb</th>\n",
       "      <th>longLb</th>\n",
       "      <th>startTime</th>\n",
       "      <th>latencyType</th>\n",
       "      <th>avgLatency</th>\n",
       "      <th>stddevLatency</th>\n",
       "      <th>...</th>\n",
       "      <th>max_rx</th>\n",
       "      <th>p1_rx</th>\n",
       "      <th>p5_rx</th>\n",
       "      <th>p25_rx</th>\n",
       "      <th>p50_rx</th>\n",
       "      <th>p75_rx</th>\n",
       "      <th>p95_rx</th>\n",
       "      <th>p99_rx</th>\n",
       "      <th>p999_rx</th>\n",
       "      <th>p99999_rx</th>\n",
       "    </tr>\n",
       "  </thead>\n",
       "  <tbody>\n",
       "    <tr>\n",
       "      <th>0</th>\n",
       "      <td>kafka</td>\n",
       "      <td>3</td>\n",
       "      <td>0</td>\n",
       "      <td>100</td>\n",
       "      <td>1</td>\n",
       "      <td>2</td>\n",
       "      <td>1575454746630</td>\n",
       "      <td>single</td>\n",
       "      <td>209.062</td>\n",
       "      <td>55.941</td>\n",
       "      <td>...</td>\n",
       "      <td>2302.0</td>\n",
       "      <td>828.01</td>\n",
       "      <td>888.05</td>\n",
       "      <td>1188.25</td>\n",
       "      <td>1569.0</td>\n",
       "      <td>1942.75</td>\n",
       "      <td>2232.95</td>\n",
       "      <td>2288.99</td>\n",
       "      <td>2301.0</td>\n",
       "      <td>2301.98799</td>\n",
       "    </tr>\n",
       "  </tbody>\n",
       "</table>\n",
       "<p>1 rows × 92 columns</p>\n",
       "</div>"
      ],
      "text/plain": [
       "  framework  phase  scale  bufferTimeout  shortLb  longLb      startTime  \\\n",
       "0     kafka      3      0            100        1       2  1575454746630   \n",
       "\n",
       "  latencyType  avgLatency  stddevLatency  ...  max_rx   p1_rx   p5_rx  \\\n",
       "0      single     209.062         55.941  ...  2302.0  828.01  888.05   \n",
       "\n",
       "    p25_rx  p50_rx   p75_rx   p95_rx   p99_rx  p999_rx   p99999_rx  \n",
       "0  1188.25  1569.0  1942.75  2232.95  2288.99   2301.0  2301.98799  \n",
       "\n",
       "[1 rows x 92 columns]"
      ]
     },
     "metadata": {},
     "output_type": "display_data"
    },
    {
     "data": {
      "text/html": [
       "<div>\n",
       "<style scoped>\n",
       "    .dataframe tbody tr th:only-of-type {\n",
       "        vertical-align: middle;\n",
       "    }\n",
       "\n",
       "    .dataframe tbody tr th {\n",
       "        vertical-align: top;\n",
       "    }\n",
       "\n",
       "    .dataframe thead th {\n",
       "        text-align: right;\n",
       "    }\n",
       "</style>\n",
       "<table border=\"1\" class=\"dataframe\">\n",
       "  <thead>\n",
       "    <tr style=\"text-align: right;\">\n",
       "      <th></th>\n",
       "      <th>framework</th>\n",
       "      <th>phase</th>\n",
       "      <th>scale</th>\n",
       "      <th>bufferTimeout</th>\n",
       "      <th>shortLb</th>\n",
       "      <th>longLb</th>\n",
       "      <th>startTime</th>\n",
       "      <th>latencyType</th>\n",
       "      <th>avgLatency</th>\n",
       "      <th>stddevLatency</th>\n",
       "      <th>...</th>\n",
       "      <th>max_rx</th>\n",
       "      <th>p1_rx</th>\n",
       "      <th>p5_rx</th>\n",
       "      <th>p25_rx</th>\n",
       "      <th>p50_rx</th>\n",
       "      <th>p75_rx</th>\n",
       "      <th>p95_rx</th>\n",
       "      <th>p99_rx</th>\n",
       "      <th>p999_rx</th>\n",
       "      <th>p99999_rx</th>\n",
       "    </tr>\n",
       "  </thead>\n",
       "  <tbody>\n",
       "    <tr>\n",
       "      <th>0</th>\n",
       "      <td>kafka</td>\n",
       "      <td>4</td>\n",
       "      <td>0</td>\n",
       "      <td>100</td>\n",
       "      <td>1</td>\n",
       "      <td>2</td>\n",
       "      <td>1575457444854</td>\n",
       "      <td>single</td>\n",
       "      <td>268.719</td>\n",
       "      <td>66.741</td>\n",
       "      <td>...</td>\n",
       "      <td>4253.0</td>\n",
       "      <td>2426.0</td>\n",
       "      <td>2498.0</td>\n",
       "      <td>2871.0</td>\n",
       "      <td>3329.0</td>\n",
       "      <td>3789.0</td>\n",
       "      <td>4163.0</td>\n",
       "      <td>4237.0</td>\n",
       "      <td>4251.8</td>\n",
       "      <td>4252.988</td>\n",
       "    </tr>\n",
       "  </tbody>\n",
       "</table>\n",
       "<p>1 rows × 92 columns</p>\n",
       "</div>"
      ],
      "text/plain": [
       "  framework  phase  scale  bufferTimeout  shortLb  longLb      startTime  \\\n",
       "0     kafka      4      0            100        1       2  1575457444854   \n",
       "\n",
       "  latencyType  avgLatency  stddevLatency  ...  max_rx   p1_rx   p5_rx  p25_rx  \\\n",
       "0      single     268.719         66.741  ...  4253.0  2426.0  2498.0  2871.0   \n",
       "\n",
       "   p50_rx  p75_rx  p95_rx  p99_rx  p999_rx  p99999_rx  \n",
       "0  3329.0  3789.0  4163.0  4237.0   4251.8   4252.988  \n",
       "\n",
       "[1 rows x 92 columns]"
      ]
     },
     "metadata": {},
     "output_type": "display_data"
    },
    {
     "data": {
      "text/html": [
       "<div>\n",
       "<style scoped>\n",
       "    .dataframe tbody tr th:only-of-type {\n",
       "        vertical-align: middle;\n",
       "    }\n",
       "\n",
       "    .dataframe tbody tr th {\n",
       "        vertical-align: top;\n",
       "    }\n",
       "\n",
       "    .dataframe thead th {\n",
       "        text-align: right;\n",
       "    }\n",
       "</style>\n",
       "<table border=\"1\" class=\"dataframe\">\n",
       "  <thead>\n",
       "    <tr style=\"text-align: right;\">\n",
       "      <th></th>\n",
       "      <th>framework</th>\n",
       "      <th>phase</th>\n",
       "      <th>scale</th>\n",
       "      <th>bufferTimeout</th>\n",
       "      <th>shortLb</th>\n",
       "      <th>longLb</th>\n",
       "      <th>startTime</th>\n",
       "      <th>latencyType</th>\n",
       "      <th>avgLatency</th>\n",
       "      <th>stddevLatency</th>\n",
       "      <th>...</th>\n",
       "      <th>max_rx</th>\n",
       "      <th>p1_rx</th>\n",
       "      <th>p5_rx</th>\n",
       "      <th>p25_rx</th>\n",
       "      <th>p50_rx</th>\n",
       "      <th>p75_rx</th>\n",
       "      <th>p95_rx</th>\n",
       "      <th>p99_rx</th>\n",
       "      <th>p999_rx</th>\n",
       "      <th>p99999_rx</th>\n",
       "    </tr>\n",
       "  </thead>\n",
       "  <tbody>\n",
       "    <tr>\n",
       "      <th>0</th>\n",
       "      <td>kafka</td>\n",
       "      <td>0</td>\n",
       "      <td>0</td>\n",
       "      <td>0</td>\n",
       "      <td>1</td>\n",
       "      <td>2</td>\n",
       "      <td>1560734749014</td>\n",
       "      <td>single</td>\n",
       "      <td>0.366</td>\n",
       "      <td>0.623</td>\n",
       "      <td>...</td>\n",
       "      <td>None</td>\n",
       "      <td>None</td>\n",
       "      <td>None</td>\n",
       "      <td>None</td>\n",
       "      <td>None</td>\n",
       "      <td>None</td>\n",
       "      <td>None</td>\n",
       "      <td>None</td>\n",
       "      <td>None</td>\n",
       "      <td>None</td>\n",
       "    </tr>\n",
       "  </tbody>\n",
       "</table>\n",
       "<p>1 rows × 92 columns</p>\n",
       "</div>"
      ],
      "text/plain": [
       "  framework  phase  scale  bufferTimeout  shortLb  longLb      startTime  \\\n",
       "0     kafka      0      0              0        1       2  1560734749014   \n",
       "\n",
       "  latencyType  avgLatency  stddevLatency  ...  max_rx  p1_rx  p5_rx  p25_rx  \\\n",
       "0      single       0.366          0.623  ...    None   None   None    None   \n",
       "\n",
       "   p50_rx  p75_rx  p95_rx  p99_rx  p999_rx  p99999_rx  \n",
       "0    None    None    None    None     None       None  \n",
       "\n",
       "[1 rows x 92 columns]"
      ]
     },
     "metadata": {},
     "output_type": "display_data"
    },
    {
     "data": {
      "text/html": [
       "<div>\n",
       "<style scoped>\n",
       "    .dataframe tbody tr th:only-of-type {\n",
       "        vertical-align: middle;\n",
       "    }\n",
       "\n",
       "    .dataframe tbody tr th {\n",
       "        vertical-align: top;\n",
       "    }\n",
       "\n",
       "    .dataframe thead th {\n",
       "        text-align: right;\n",
       "    }\n",
       "</style>\n",
       "<table border=\"1\" class=\"dataframe\">\n",
       "  <thead>\n",
       "    <tr style=\"text-align: right;\">\n",
       "      <th></th>\n",
       "      <th>framework</th>\n",
       "      <th>phase</th>\n",
       "      <th>scale</th>\n",
       "      <th>bufferTimeout</th>\n",
       "      <th>shortLb</th>\n",
       "      <th>longLb</th>\n",
       "      <th>startTime</th>\n",
       "      <th>latencyType</th>\n",
       "      <th>avgLatency</th>\n",
       "      <th>stddevLatency</th>\n",
       "      <th>...</th>\n",
       "      <th>max_rx</th>\n",
       "      <th>p1_rx</th>\n",
       "      <th>p5_rx</th>\n",
       "      <th>p25_rx</th>\n",
       "      <th>p50_rx</th>\n",
       "      <th>p75_rx</th>\n",
       "      <th>p95_rx</th>\n",
       "      <th>p99_rx</th>\n",
       "      <th>p999_rx</th>\n",
       "      <th>p99999_rx</th>\n",
       "    </tr>\n",
       "  </thead>\n",
       "  <tbody>\n",
       "    <tr>\n",
       "      <th>0</th>\n",
       "      <td>kafka</td>\n",
       "      <td>1</td>\n",
       "      <td>0</td>\n",
       "      <td>0</td>\n",
       "      <td>1</td>\n",
       "      <td>2</td>\n",
       "      <td>1560737421541</td>\n",
       "      <td>single</td>\n",
       "      <td>0.851</td>\n",
       "      <td>0.663</td>\n",
       "      <td>...</td>\n",
       "      <td>None</td>\n",
       "      <td>None</td>\n",
       "      <td>None</td>\n",
       "      <td>None</td>\n",
       "      <td>None</td>\n",
       "      <td>None</td>\n",
       "      <td>None</td>\n",
       "      <td>None</td>\n",
       "      <td>None</td>\n",
       "      <td>None</td>\n",
       "    </tr>\n",
       "  </tbody>\n",
       "</table>\n",
       "<p>1 rows × 92 columns</p>\n",
       "</div>"
      ],
      "text/plain": [
       "  framework  phase  scale  bufferTimeout  shortLb  longLb      startTime  \\\n",
       "0     kafka      1      0              0        1       2  1560737421541   \n",
       "\n",
       "  latencyType  avgLatency  stddevLatency  ...  max_rx  p1_rx  p5_rx  p25_rx  \\\n",
       "0      single       0.851          0.663  ...    None   None   None    None   \n",
       "\n",
       "   p50_rx  p75_rx  p95_rx  p99_rx  p999_rx  p99999_rx  \n",
       "0    None    None    None    None     None       None  \n",
       "\n",
       "[1 rows x 92 columns]"
      ]
     },
     "metadata": {},
     "output_type": "display_data"
    },
    {
     "data": {
      "text/html": [
       "<div>\n",
       "<style scoped>\n",
       "    .dataframe tbody tr th:only-of-type {\n",
       "        vertical-align: middle;\n",
       "    }\n",
       "\n",
       "    .dataframe tbody tr th {\n",
       "        vertical-align: top;\n",
       "    }\n",
       "\n",
       "    .dataframe thead th {\n",
       "        text-align: right;\n",
       "    }\n",
       "</style>\n",
       "<table border=\"1\" class=\"dataframe\">\n",
       "  <thead>\n",
       "    <tr style=\"text-align: right;\">\n",
       "      <th></th>\n",
       "      <th>framework</th>\n",
       "      <th>phase</th>\n",
       "      <th>scale</th>\n",
       "      <th>bufferTimeout</th>\n",
       "      <th>shortLb</th>\n",
       "      <th>longLb</th>\n",
       "      <th>startTime</th>\n",
       "      <th>latencyType</th>\n",
       "      <th>avgLatency</th>\n",
       "      <th>stddevLatency</th>\n",
       "      <th>...</th>\n",
       "      <th>max_rx</th>\n",
       "      <th>p1_rx</th>\n",
       "      <th>p5_rx</th>\n",
       "      <th>p25_rx</th>\n",
       "      <th>p50_rx</th>\n",
       "      <th>p75_rx</th>\n",
       "      <th>p95_rx</th>\n",
       "      <th>p99_rx</th>\n",
       "      <th>p999_rx</th>\n",
       "      <th>p99999_rx</th>\n",
       "    </tr>\n",
       "  </thead>\n",
       "  <tbody>\n",
       "    <tr>\n",
       "      <th>0</th>\n",
       "      <td>kafka</td>\n",
       "      <td>2</td>\n",
       "      <td>0</td>\n",
       "      <td>0</td>\n",
       "      <td>1</td>\n",
       "      <td>2</td>\n",
       "      <td>1560740119057</td>\n",
       "      <td>single</td>\n",
       "      <td>2.898</td>\n",
       "      <td>4.201</td>\n",
       "      <td>...</td>\n",
       "      <td>None</td>\n",
       "      <td>None</td>\n",
       "      <td>None</td>\n",
       "      <td>None</td>\n",
       "      <td>None</td>\n",
       "      <td>None</td>\n",
       "      <td>None</td>\n",
       "      <td>None</td>\n",
       "      <td>None</td>\n",
       "      <td>None</td>\n",
       "    </tr>\n",
       "  </tbody>\n",
       "</table>\n",
       "<p>1 rows × 92 columns</p>\n",
       "</div>"
      ],
      "text/plain": [
       "  framework  phase  scale  bufferTimeout  shortLb  longLb      startTime  \\\n",
       "0     kafka      2      0              0        1       2  1560740119057   \n",
       "\n",
       "  latencyType  avgLatency  stddevLatency  ...  max_rx  p1_rx  p5_rx  p25_rx  \\\n",
       "0      single       2.898          4.201  ...    None   None   None    None   \n",
       "\n",
       "   p50_rx  p75_rx  p95_rx  p99_rx  p999_rx  p99999_rx  \n",
       "0    None    None    None    None     None       None  \n",
       "\n",
       "[1 rows x 92 columns]"
      ]
     },
     "metadata": {},
     "output_type": "display_data"
    },
    {
     "data": {
      "text/html": [
       "<div>\n",
       "<style scoped>\n",
       "    .dataframe tbody tr th:only-of-type {\n",
       "        vertical-align: middle;\n",
       "    }\n",
       "\n",
       "    .dataframe tbody tr th {\n",
       "        vertical-align: top;\n",
       "    }\n",
       "\n",
       "    .dataframe thead th {\n",
       "        text-align: right;\n",
       "    }\n",
       "</style>\n",
       "<table border=\"1\" class=\"dataframe\">\n",
       "  <thead>\n",
       "    <tr style=\"text-align: right;\">\n",
       "      <th></th>\n",
       "      <th>framework</th>\n",
       "      <th>phase</th>\n",
       "      <th>scale</th>\n",
       "      <th>bufferTimeout</th>\n",
       "      <th>shortLb</th>\n",
       "      <th>longLb</th>\n",
       "      <th>startTime</th>\n",
       "      <th>latencyType</th>\n",
       "      <th>avgLatency</th>\n",
       "      <th>stddevLatency</th>\n",
       "      <th>...</th>\n",
       "      <th>max_rx</th>\n",
       "      <th>p1_rx</th>\n",
       "      <th>p5_rx</th>\n",
       "      <th>p25_rx</th>\n",
       "      <th>p50_rx</th>\n",
       "      <th>p75_rx</th>\n",
       "      <th>p95_rx</th>\n",
       "      <th>p99_rx</th>\n",
       "      <th>p999_rx</th>\n",
       "      <th>p99999_rx</th>\n",
       "    </tr>\n",
       "  </thead>\n",
       "  <tbody>\n",
       "    <tr>\n",
       "      <th>0</th>\n",
       "      <td>kafka</td>\n",
       "      <td>3</td>\n",
       "      <td>0</td>\n",
       "      <td>0</td>\n",
       "      <td>1</td>\n",
       "      <td>2</td>\n",
       "      <td>1560742816360</td>\n",
       "      <td>single</td>\n",
       "      <td>533.724</td>\n",
       "      <td>309.184</td>\n",
       "      <td>...</td>\n",
       "      <td>None</td>\n",
       "      <td>None</td>\n",
       "      <td>None</td>\n",
       "      <td>None</td>\n",
       "      <td>None</td>\n",
       "      <td>None</td>\n",
       "      <td>None</td>\n",
       "      <td>None</td>\n",
       "      <td>None</td>\n",
       "      <td>None</td>\n",
       "    </tr>\n",
       "  </tbody>\n",
       "</table>\n",
       "<p>1 rows × 92 columns</p>\n",
       "</div>"
      ],
      "text/plain": [
       "  framework  phase  scale  bufferTimeout  shortLb  longLb      startTime  \\\n",
       "0     kafka      3      0              0        1       2  1560742816360   \n",
       "\n",
       "  latencyType  avgLatency  stddevLatency  ...  max_rx  p1_rx  p5_rx  p25_rx  \\\n",
       "0      single     533.724        309.184  ...    None   None   None    None   \n",
       "\n",
       "   p50_rx  p75_rx  p95_rx  p99_rx  p999_rx  p99999_rx  \n",
       "0    None    None    None    None     None       None  \n",
       "\n",
       "[1 rows x 92 columns]"
      ]
     },
     "metadata": {},
     "output_type": "display_data"
    },
    {
     "data": {
      "text/html": [
       "<div>\n",
       "<style scoped>\n",
       "    .dataframe tbody tr th:only-of-type {\n",
       "        vertical-align: middle;\n",
       "    }\n",
       "\n",
       "    .dataframe tbody tr th {\n",
       "        vertical-align: top;\n",
       "    }\n",
       "\n",
       "    .dataframe thead th {\n",
       "        text-align: right;\n",
       "    }\n",
       "</style>\n",
       "<table border=\"1\" class=\"dataframe\">\n",
       "  <thead>\n",
       "    <tr style=\"text-align: right;\">\n",
       "      <th></th>\n",
       "      <th>framework</th>\n",
       "      <th>phase</th>\n",
       "      <th>scale</th>\n",
       "      <th>bufferTimeout</th>\n",
       "      <th>shortLb</th>\n",
       "      <th>longLb</th>\n",
       "      <th>startTime</th>\n",
       "      <th>latencyType</th>\n",
       "      <th>avgLatency</th>\n",
       "      <th>stddevLatency</th>\n",
       "      <th>...</th>\n",
       "      <th>max_rx</th>\n",
       "      <th>p1_rx</th>\n",
       "      <th>p5_rx</th>\n",
       "      <th>p25_rx</th>\n",
       "      <th>p50_rx</th>\n",
       "      <th>p75_rx</th>\n",
       "      <th>p95_rx</th>\n",
       "      <th>p99_rx</th>\n",
       "      <th>p999_rx</th>\n",
       "      <th>p99999_rx</th>\n",
       "    </tr>\n",
       "  </thead>\n",
       "  <tbody>\n",
       "    <tr>\n",
       "      <th>0</th>\n",
       "      <td>kafka</td>\n",
       "      <td>4</td>\n",
       "      <td>0</td>\n",
       "      <td>0</td>\n",
       "      <td>1</td>\n",
       "      <td>2</td>\n",
       "      <td>1560745513785</td>\n",
       "      <td>single</td>\n",
       "      <td>908.934</td>\n",
       "      <td>401.831</td>\n",
       "      <td>...</td>\n",
       "      <td>None</td>\n",
       "      <td>None</td>\n",
       "      <td>None</td>\n",
       "      <td>None</td>\n",
       "      <td>None</td>\n",
       "      <td>None</td>\n",
       "      <td>None</td>\n",
       "      <td>None</td>\n",
       "      <td>None</td>\n",
       "      <td>None</td>\n",
       "    </tr>\n",
       "  </tbody>\n",
       "</table>\n",
       "<p>1 rows × 92 columns</p>\n",
       "</div>"
      ],
      "text/plain": [
       "  framework  phase  scale  bufferTimeout  shortLb  longLb      startTime  \\\n",
       "0     kafka      4      0              0        1       2  1560745513785   \n",
       "\n",
       "  latencyType  avgLatency  stddevLatency  ...  max_rx  p1_rx  p5_rx  p25_rx  \\\n",
       "0      single     908.934        401.831  ...    None   None   None    None   \n",
       "\n",
       "   p50_rx  p75_rx  p95_rx  p99_rx  p999_rx  p99999_rx  \n",
       "0    None    None    None    None     None       None  \n",
       "\n",
       "[1 rows x 92 columns]"
      ]
     },
     "metadata": {},
     "output_type": "display_data"
    }
   ],
   "source": [
    "for windowtype in windowtypes:\n",
    "    for phase in phases[windowtype]:\n",
    "        try:\n",
    "            display(completeResults[windowtype].filter(col(\"phase\")==phase).toPandas())\n",
    "        except:\n",
    "            print(\"doesn't exist: phase\" + str(phase) + \" windowtype: \"+ windowtype)"
   ]
  },
  {
   "cell_type": "markdown",
   "metadata": {},
   "source": [
    "Phases that are present in the data"
   ]
  },
  {
   "cell_type": "code",
   "execution_count": 913,
   "metadata": {},
   "outputs": [],
   "source": [
    "latencyTimeseriesDataWithStartup = defaultdict(dict)\n",
    "for windowtype in windowtypes:\n",
    "    for phase in phases[windowtype]:\n",
    "        try:\n",
    "            latencyTimeseriesDataPhase = spark.read.option(\"header\", \"true\").option(\"inferSchema\", \"true\") \\\n",
    "                .csv(dataPath[phase][windowtype] + \"/latency-timeseries-data-without-startup.csv/*\") \\\n",
    "                .withColumn(\"time\", datetimeFromEpochUDF(col(\"outputBucketTime\"))).filter(col(\"phase\")==phase)\n",
    "            minTime = latencyTimeseriesDataPhase \\\n",
    "                .agg(min(\"outputBucketTime\").alias(\"minTime\")).toPandas()[\"minTime\"][0].item()\n",
    "            minTimeSec = minTime/60000.0\n",
    "            latencyTimeseriesDataWithStartup[phase][windowtype] = latencyTimeseriesDataPhase.withColumn(\"timeSec\", (col(\"outputBucketTime\")/60000.0)-minTimeSec)\n",
    "        except:\n",
    "            print(\"no data for \" +  windowtype + \" for stage \" + str(phase))"
   ]
  },
  {
   "cell_type": "code",
   "execution_count": 914,
   "metadata": {
    "collapsed": true
   },
   "outputs": [],
   "source": [
    "latencyHistogramData = defaultdict(dict)\n",
    "for windowtype in windowtypes:\n",
    "    for phase in phases[windowtype]:\n",
    "        latencyHistogramData[phase][windowtype] = spark.read.option(\"header\", \"true\").option(\"inferSchema\", \"true\") \\\n",
    "            .csv(dataPath[phase][windowtype] + \"/latency-violin-without-startup-data.csv/*\").filter(col(\"phase\")==phase)"
   ]
  },
  {
   "cell_type": "code",
   "execution_count": 915,
   "metadata": {},
   "outputs": [],
   "source": [
    "def createLatencyPlot(windowTypeForPlot):\n",
    "    for j, windowtype in enumerate(windowTypeForPlot):\n",
    "        f, ax = plt.subplots(len(windowTypeForPlot), 1 , figsize=(3.8, 1+1.2*len(phases[windowtype])))\n",
    "        spread = 2.5\n",
    "        xax_max = 7000.0\n",
    "        yax_max = 5*spread -0.5\n",
    "        endvalue = math.ceil(xax_max)\n",
    "        y_coors = list(reversed(range(0, len(phases[windowtype]))))\n",
    "        \n",
    "        for i, phase in enumerate(phases[windowtype]):\n",
    "            y_coor = y_coors[i]*spread\n",
    "            \n",
    "            completeResultOfPhase = completeResults[windowtype].filter(col(\"phase\")==phase).toPandas()\n",
    "            p99999=completeResultOfPhase[\"p99999\"][0]\n",
    "            p999=completeResultOfPhase[\"p999\"][0]\n",
    "            latencyHistogramDataPhase = latencyHistogramData[phase][windowtype].withColumn(\"latencyBucket\", round(col(\"latencyBucket\") / 10.0)*10) \\\n",
    "                .groupBy(\"latencyBucket\").agg(sum(\"latencyBucketCount\").alias(\"latencyBucketCount\")).orderBy(\"latencyBucket\") \\\n",
    "                .toPandas()\n",
    "\n",
    "            # Create horizontal lines for each of the phases\n",
    "            ax.axhline(y_coor, linestyle='-', color='#E8E8E8')\n",
    "            # Put the phase label \n",
    "            ax.annotate(\"+ \" + phase_to_stage(phase), \n",
    "                           xy=(10, y_coor), \n",
    "                           xytext=(-ax.yaxis.labelpad - 5, 0),\n",
    "                           textcoords='offset points', \n",
    "                           size=22, \n",
    "                           ha='right', \n",
    "                           va='baseline')\n",
    "\n",
    "            divisorMax = latencyHistogramDataPhase[\"latencyBucketCount\"].max()\n",
    "            latencyHistogramDataPhase[\"latencyBucketCount\"] = latencyHistogramDataPhase[\"latencyBucketCount\"]\\\n",
    "                .apply(lambda x: (x/divisorMax) + y_coor)\n",
    "            ymax = latencyHistogramDataPhase[\"latencyBucketCount\"].max()\n",
    "            latencyLine = ax.plot(latencyHistogramDataPhase[\"latencyBucket\"], latencyHistogramDataPhase[\"latencyBucketCount\"], color=\"#484848\")\n",
    "            p50=completeResultOfPhase[\"p50\"][0]\n",
    "            p50line = ax.axvline(p50, ymin=y_coor/yax_max, ymax=(y_coor+0.95)/yax_max, linestyle='--', color='black', label='p50/median')\n",
    "            p50_text_box = TextArea(int(p50), minimumdescent=False, textprops=dict(size = 22))\n",
    "            p50_ab = AnnotationBbox(p50_text_box, (p50, y_coor+1.1),\n",
    "                            xybox=(-15, 15),\n",
    "                            xycoords='data',\n",
    "                            boxcoords=\"offset points\",\n",
    "                            pad=0.08,\n",
    "                            arrowprops=dict(arrowstyle=\"->\"))\n",
    "            ax.add_artist(p50_ab)\n",
    "\n",
    "            p999line = ax.axvline(p999, ymin=y_coor/yax_max, ymax=(y_coor+1.2)/yax_max, linestyle=':', color='black', label='p999')\n",
    "\n",
    "            p999_text_box = TextArea(int(p999), minimumdescent=False, textprops=dict(size = 22))\n",
    "            p999_ab = AnnotationBbox(p999_text_box, (p999, y_coor+1.1),\n",
    "                            xybox=(9, 15),\n",
    "                            xycoords='data',\n",
    "                            boxcoords=\"offset points\",\n",
    "                            pad=0.08,\n",
    "                            arrowprops=dict(arrowstyle=\"->\"))\n",
    "            ax.add_artist(p999_ab)\n",
    "            \n",
    "\n",
    "            ax.fill_between(latencyHistogramDataPhase[\"latencyBucket\"], y_coor, latencyHistogramDataPhase[\"latencyBucketCount\"],\\\n",
    "                             where = latencyHistogramDataPhase[\"latencyBucket\"] <=completeResultOfPhase[\"p25\"][0], \\\n",
    "                                 color='#ffffff', alpha=0.8)\n",
    "            p2550fill=ax.fill_between(latencyHistogramDataPhase[\"latencyBucket\"], y_coor, latencyHistogramDataPhase[\"latencyBucketCount\"],\\\n",
    "                             where = (latencyHistogramDataPhase[\"latencyBucket\"] <=completeResultOfPhase[\"p50\"][0]) & \\\n",
    "                                 (latencyHistogramDataPhase[\"latencyBucket\"] >=completeResultOfPhase[\"p25\"][0]), \\\n",
    "                                 color='#E8E8E8', alpha=0.8, interpolate=True)\n",
    "            p5075fill=ax.fill_between(latencyHistogramDataPhase[\"latencyBucket\"], y_coor, latencyHistogramDataPhase[\"latencyBucketCount\"],\\\n",
    "                             where = (latencyHistogramDataPhase[\"latencyBucket\"]>=completeResultOfPhase[\"p50\"][0]) & \\\n",
    "                                 (latencyHistogramDataPhase[\"latencyBucket\"]<=completeResultOfPhase[\"p75\"][0]),\\\n",
    "                                 color='#787878', alpha=0.8, interpolate=True)\n",
    "            p7599fill=ax.fill_between(latencyHistogramDataPhase[\"latencyBucket\"], y_coor, latencyHistogramDataPhase[\"latencyBucketCount\"],\\\n",
    "                             where = (latencyHistogramDataPhase[\"latencyBucket\"]>=completeResultOfPhase[\"p75\"][0]) & \\\n",
    "                                 (latencyHistogramDataPhase[\"latencyBucket\"]<=completeResultOfPhase[\"p99\"][0]), \\\n",
    "                                 color='#484848', alpha=0.8, interpolate=True)\n",
    "            ax.fill_between(latencyHistogramDataPhase[\"latencyBucket\"], y_coor, latencyHistogramDataPhase[\"latencyBucketCount\"],\\\n",
    "                             where = (latencyHistogramDataPhase[\"latencyBucket\"]>=completeResultOfPhase[\"p99\"][0]), \\\n",
    "                                 color='#000000', alpha=0.8, interpolate=True)\n",
    "        ax.get_yaxis().set_ticks([])\n",
    "        ax.set_ylim(ymin=0, ymax=len(y_coors)*spread)\n",
    "        ax.set_xlim(xmin=0, xmax=xax_max*1.1)\n",
    "\n",
    "\n",
    "\n",
    "    f.legend([p50line, p999line, p2550fill, p5075fill, p7599fill], [\"p50/median\", \"p99.9\", \"p25-p50\", \"p50-p75\", \"p75-p99\"], loc='upper center', bbox_to_anchor=(0.5, 1.1), \n",
    "            bbox_transform=plt.gcf().transFigure, ncol =5, fontsize='24', edgecolor='white', framealpha=0,\n",
    "           handletextpad=0.2, columnspacing=1)\n",
    "\n",
    "    ax.set_xlabel(\"latency (ms)\") \n",
    "\n",
    "    plt.tight_layout(rect=[0, 0, 1, 1])\n",
    "    plt.subplots_adjust(wspace=0, hspace=0)\n",
    "\n",
    "    save_img_colored_and_grayscale(\"./figures/latency-constant-rate/custom-normal-window-analysis/latency_distribution_\" + framework + \"_\" + windowtype)\n",
    "    plt.show()\n",
    "\n",
    "    # to put 99.999 label:\n",
    "    #         ax[j].annotate(str(int(p99999)), xy=(endvalue, i*spread+0.3), xytext=(endvalue, i*spread+0.3), size=20, \\\n",
    "    #                        ha='left', va='baseline', clip_on=True)"
   ]
  },
  {
   "cell_type": "code",
   "execution_count": 916,
   "metadata": {
    "scrolled": false
   },
   "outputs": [
    {
     "data": {
      "image/png": "[encoded data removed]",
      "text/plain": [
       "<Figure size 273.6x504 with 1 Axes>"
      ]
     },
     "metadata": {},
     "output_type": "display_data"
    }
   ],
   "source": [
    "createLatencyPlot([\"normal\"])"
   ]
  },
  {
   "cell_type": "code",
   "execution_count": 917,
   "metadata": {},
   "outputs": [
    {
     "data": {
      "image/png": "[encoded data removed]",
      "text/plain": [
       "<Figure size 273.6x244.8 with 1 Axes>"
      ]
     },
     "metadata": {},
     "output_type": "display_data"
    }
   ],
   "source": [
    "createLatencyPlot([\"custom\"])"
   ]
  },
  {
   "cell_type": "code",
   "execution_count": null,
   "metadata": {
    "collapsed": true
   },
   "outputs": [],
   "source": []
  },
  {
   "cell_type": "code",
   "execution_count": null,
   "metadata": {
    "collapsed": true
   },
   "outputs": [],
   "source": []
  }
 ],
 "metadata": {
  "kernelspec": {
   "display_name": "Python 3",
   "language": "python",
   "name": "python3"
  },
  "language_info": {
   "codemirror_mode": {
    "name": "ipython",
    "version": 3
   },
   "file_extension": ".py",
   "mimetype": "text/x-python",
   "name": "python",
   "nbconvert_exporter": "python",
   "pygments_lexer": "ipython3",
   "version": "3.6.6"
  }
 },
 "nbformat": 4,
 "nbformat_minor": 2
}
