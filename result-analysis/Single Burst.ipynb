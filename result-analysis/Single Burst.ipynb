{
 "cells": [
  {
   "cell_type": "markdown",
   "metadata": {},
   "source": [
    "# Single Burst\n",
    "This notebook evaluates the results of the single burst workload. \n",
    "\n",
    "You can generate results for different stages of the pipeline by changing the NOTEBOOK_PHASE parameter: 1, 2, and 3 are valid options."
   ]
  },
  {
   "cell_type": "code",
   "execution_count": 169,
   "metadata": {
    "collapsed": true
   },
   "outputs": [],
   "source": [
    "NOTEBOOK_PHASE = 3 # you can change this to 1, 2, or 3 to see results from other stages"
   ]
  },
  {
   "cell_type": "code",
   "execution_count": 170,
   "metadata": {
    "collapsed": true
   },
   "outputs": [],
   "source": [
    "# settings for saving plots\n",
    "saveplots = True\n",
    "dpiResolution = 200"
   ]
  },
  {
   "cell_type": "code",
   "execution_count": 171,
   "metadata": {
    "collapsed": true
   },
   "outputs": [],
   "source": [
    "from pyspark.sql.functions import *\n",
    "import numpy as np\n",
    "# Import to indent the plots in the notebook\n",
    "%matplotlib notebook\n",
    "%matplotlib inline\n",
    "import matplotlib\n",
    "import matplotlib.cm as cm\n",
    "import matplotlib.pyplot as plt\n",
    "import matplotlib.collections as collections\n",
    "import seaborn as sns\n",
    "from IPython.core.display import display, HTML\n",
    "from PIL import Image\n",
    "from matplotlib.ticker import AutoMinorLocator"
   ]
  },
  {
   "cell_type": "code",
   "execution_count": 172,
   "metadata": {
    "collapsed": true
   },
   "outputs": [],
   "source": [
    "# Python imports\n",
    "import pandas as pd \n",
    "from collections import defaultdict\n",
    "from datetime import timedelta\n",
    "from datetime import datetime\n",
    "import numpy as np\n",
    "import pytz\n",
    "import math\n",
    "\n",
    "# SQL imports\n",
    "from pyspark.sql.functions import isnan, when, count, col, lead, udf, lag, to_date, avg, desc, sum\n",
    "from pyspark.sql import Window\n",
    "from pyspark.sql import functions\n",
    "from pyspark.sql.types import IntegerType, LongType, DoubleType, TimestampType, StringType"
   ]
  },
  {
   "cell_type": "code",
   "execution_count": 173,
   "metadata": {
    "collapsed": true
   },
   "outputs": [],
   "source": [
    "# settings to get plots in the right style\n",
    "plt.style.use('ggplot')\n",
    "plt.style.use('seaborn-deep')\n",
    "plt.rcParams['font.family'] = 'sans-serif'\n",
    "plt.rcParams['font.serif'] = 'Ubuntu'\n",
    "plt.rcParams['font.monospace'] = 'Ubuntu Mono'\n",
    "plt.rcParams['font.size'] = 18\n",
    "plt.rcParams['axes.labelsize'] = 18\n",
    "plt.rcParams['axes.labelweight'] = 'normal'\n",
    "plt.rcParams['axes.labelcolor'] = 'black'\n",
    "plt.rcParams['axes.facecolor'] = 'white'\n",
    "plt.rcParams['axes.edgecolor'] = 'lightgrey'\n",
    "plt.rcParams['axes.titlesize'] = 18\n",
    "plt.rcParams['axes.titleweight'] = 'normal'\n",
    "plt.rcParams['figure.edgecolor'] = 'lightgrey'\n",
    "plt.rcParams['xtick.labelsize'] = 18\n",
    "plt.rcParams['ytick.labelsize'] = 18\n",
    "plt.rcParams['xtick.color'] = 'black'\n",
    "plt.rcParams['ytick.color'] = 'black'\n",
    "plt.rcParams['legend.fontsize'] = 18\n",
    "plt.rcParams['figure.titlesize'] = 18\n",
    "plt.rcParams['figure.titleweight'] ='bold'\n",
    "plt.rcParams['grid.color'] = 'grey'\n",
    "plt.rcParams['grid.linestyle'] = ':'\n",
    "plt.rcParams['figure.facecolor'] = 'white'\n",
    "plt.rcParams['axes.spines.top'] = False\n",
    "plt.rcParams['axes.spines.right'] = False\n",
    "plt.rcParams['axes.spines.left'] = False\n",
    "plt.rcParams['axes.spines.bottom'] = False\n",
    "plt.rcParams['xtick.direction'] = 'out'\n",
    "plt.rcParams['ytick.direction'] ='out'\n",
    "plt.rcParams[\"date.autoformatter.minute\"] = \"%H:%M\"\n",
    "plt.rcParams[\"font.family\"] = \"Times New Roman\"\n",
    "plt.rc('axes',edgecolor='black')"
   ]
  },
  {
   "cell_type": "code",
   "execution_count": 174,
   "metadata": {
    "scrolled": false
   },
   "outputs": [
    {
     "data": {
      "text/html": [
       "\n",
       "            <div>\n",
       "                <p><b>SparkSession - hive</b></p>\n",
       "                \n",
       "        <div>\n",
       "            <p><b>SparkContext</b></p>\n",
       "\n",
       "            <p><a href=\"http://192.168.0.197:4049\">Spark UI</a></p>\n",
       "\n",
       "            <dl>\n",
       "              <dt>Version</dt>\n",
       "                <dd><code>v2.3.0</code></dd>\n",
       "              <dt>Master</dt>\n",
       "                <dd><code>local[*]</code></dd>\n",
       "              <dt>AppName</dt>\n",
       "                <dd><code>PySparkShell</code></dd>\n",
       "            </dl>\n",
       "        </div>\n",
       "        \n",
       "            </div>\n",
       "        "
      ],
      "text/plain": [
       "<pyspark.sql.session.SparkSession at 0x7f97c4ec66d8>"
      ]
     },
     "execution_count": 174,
     "metadata": {},
     "output_type": "execute_result"
    }
   ],
   "source": [
    "# check if Spark is running\n",
    "spark"
   ]
  },
  {
   "cell_type": "code",
   "execution_count": 175,
   "metadata": {
    "collapsed": true
   },
   "outputs": [],
   "source": [
    "# Structured Streaming does not have an implementation for the 4th stage\n",
    "if NOTEBOOK_PHASE < 4:\n",
    "    frameworks = [\"FLINK\", \"KAFKASTREAMS\", \"SPARK\", \"STRUCTUREDSTREAMING\"]\n",
    "else: \n",
    "    frameworks = [\"FLINK\", \"KAFKASTREAMS\", \"SPARK\"]\n",
    "    \n",
    "    \n",
    "frameworksPrintable = {\n",
    "    \"SPARK\": \"Spark Streaming\", \n",
    "    \"STRUCTUREDSTREAMING\":\"Structured Streaming\", \n",
    "    \"FLINK\": \"Flink\", \n",
    "    \"KAFKASTREAMS\": \"Kafka Streams\"   \n",
    "}\n",
    "stages=[\"ingest\", \"parse\", \"join\", \"tumbling\\nwindow\", \"sliding\\nwindow\"]"
   ]
  },
  {
   "cell_type": "code",
   "execution_count": 176,
   "metadata": {
    "collapsed": true
   },
   "outputs": [],
   "source": [
    "dataPath = dict()\n",
    "for i in frameworks:\n",
    "        dataPath[i] = \"./data/\" + i + \"/single-burst/phase\" + str(NOTEBOOK_PHASE) + \"/*\""
   ]
  },
  {
   "cell_type": "code",
   "execution_count": 177,
   "metadata": {},
   "outputs": [
    {
     "data": {
      "text/plain": [
       "{'FLINK': './data/FLINK/single-burst/phase3/*',\n",
       " 'KAFKASTREAMS': './data/KAFKASTREAMS/single-burst/phase3/*',\n",
       " 'SPARK': './data/SPARK/single-burst/phase3/*',\n",
       " 'STRUCTUREDSTREAMING': './data/STRUCTUREDSTREAMING/single-burst/phase3/*'}"
      ]
     },
     "execution_count": 177,
     "metadata": {},
     "output_type": "execute_result"
    }
   ],
   "source": [
    "dataPath"
   ]
  },
  {
   "cell_type": "markdown",
   "metadata": {},
   "source": [
    "## General Methods"
   ]
  },
  {
   "cell_type": "markdown",
   "metadata": {},
   "source": [
    "For printing the quantiles of a column:\n",
    "provide a list of quantiles"
   ]
  },
  {
   "cell_type": "code",
   "execution_count": 179,
   "metadata": {
    "collapsed": true
   },
   "outputs": [],
   "source": [
    "def datetimeFromEpoch(epoch):\n",
    "    return datetime.utcfromtimestamp(epoch//1000).replace(microsecond=epoch%1000*1000)\n",
    "\n",
    "datetimeFromEpochUDF = functions.udf(datetimeFromEpoch, TimestampType())"
   ]
  },
  {
   "cell_type": "code",
   "execution_count": 182,
   "metadata": {
    "collapsed": true
   },
   "outputs": [],
   "source": [
    "def save_img_colored_and_grayscale(path_colored_img):\n",
    "    if saveplots: \n",
    "        plt.savefig(path_colored_img + '.png', dpi=dpiResolution, bbox_inches=\"tight\", pad_inches=0)\n",
    "        im = Image.open(path_colored_img + '.png').convert('L')\n",
    "        im.save(path_colored_img + '_grayscale.png', dpi=(300, 300))"
   ]
  },
  {
   "cell_type": "code",
   "execution_count": 183,
   "metadata": {},
   "outputs": [],
   "source": [
    "# Save the data in here\n",
    "completeResults = dict()\n",
    "\n",
    "\n",
    "for framework in frameworks:\n",
    "        try:\n",
    "            completeResults[framework] = spark.read.option(\"header\", \"true\").option(\"inferSchema\", \"true\") \\\n",
    "            .csv(dataPath[framework] + \"/results.csv/*\")\n",
    "        except:\n",
    "            print(\"no data for \" +  framework + \" for stage \" + str(phase))"
   ]
  },
  {
   "cell_type": "code",
   "execution_count": 184,
   "metadata": {},
   "outputs": [
    {
     "name": "stdout",
     "output_type": "stream",
     "text": [
      "all checks passed\n",
      "all checks passed\n",
      "all checks passed\n",
      "all checks passed\n"
     ]
    }
   ],
   "source": [
    "# Save the frameworks present in the data in here\n",
    "containerCheck = dict()\n",
    "for framework in frameworks:\n",
    "        requiredAmtContainers = 5 if framework == \"KAFKASTREAMS\" else 6\n",
    "        containerCheckPhase = spark.read.option(\"header\", \"true\").option(\"inferSchema\", \"true\") \\\n",
    "        .csv(dataPath[framework] + \"/cpu-per-container-timeseries.csv/*\")\n",
    "        amtOfContainers = containerCheckPhase.select(\"containerName\").distinct().count()\n",
    "        if amtOfContainers != requiredAmtContainers:\n",
    "            print(\"WARNING FOR \" + framework + \" volume: \" + str(phase))\n",
    "        else:\n",
    "            print(\"all checks passed\")"
   ]
  },
  {
   "cell_type": "markdown",
   "metadata": {},
   "source": [
    "# Throughput"
   ]
  },
  {
   "cell_type": "markdown",
   "metadata": {},
   "source": [
    "## Stage 0 throughput"
   ]
  },
  {
   "cell_type": "code",
   "execution_count": 185,
   "metadata": {
    "collapsed": true
   },
   "outputs": [],
   "source": [
    "throughputTimeseriesDataWithStartup = dict()\n",
    "for framework in frameworks:\n",
    "        try:\n",
    "            throughputDataForPhase = spark.read.option(\"header\", \"true\").option(\"inferSchema\", \"true\") \\\n",
    "            .csv(dataPath[framework] + \"/output-throughput-timeseries-second-buckets.csv/*\") \\\n",
    "            .withColumn(\"time\", datetimeFromEpochUDF(col(\"outputBucketTime\")))\n",
    "            minTime = throughputDataForPhase.toPandas()['startTime'][0]\n",
    "            minTimeSec = minTime/60000.0\n",
    "            throughputTimeseriesDataWithStartup[framework] = throughputDataForPhase.withColumn(\"timeSec\", (col(\"outputBucketTime\")/60000.0)-minTimeSec)\n",
    "        except:\n",
    "            print(\"no data for \" +  framework + \" for stage \" + str(phase))"
   ]
  },
  {
   "cell_type": "code",
   "execution_count": 186,
   "metadata": {
    "collapsed": true
   },
   "outputs": [],
   "source": [
    "inputThroughputTimeseriesDataWithStartup = dict()\n",
    "for framework in frameworks:\n",
    "        try:\n",
    "            throughputDataForPhase = spark.read.option(\"header\", \"true\").option(\"inferSchema\", \"true\") \\\n",
    "            .csv(dataPath[framework] + \"/input-throughput-timeseries-second-buckets.csv/*\") \\\n",
    "            .withColumn(\"time\", datetimeFromEpochUDF(col(\"inputBucketTime\")))\n",
    "            minTime = completeResults[framework].toPandas()['startTime'][0]\n",
    "            minTimeSec = minTime/60000.0\n",
    "            inputThroughputTimeseriesDataWithStartup[framework] = throughputDataForPhase.withColumn(\"timeSec\", (col(\"inputBucketTime\")/60000.0)-minTimeSec)\n",
    "        except:\n",
    "            print(\"no data for \" +  framework + \" for stage \" + str(phase))"
   ]
  },
  {
   "cell_type": "code",
   "execution_count": 187,
   "metadata": {
    "scrolled": false
   },
   "outputs": [
    {
     "name": "stdout",
     "output_type": "stream",
     "text": [
      "FLINK\n",
      "finishing time\n",
      "+-----------------+\n",
      "|     max(timeSec)|\n",
      "+-----------------+\n",
      "|9.621966667473316|\n",
      "+-----------------+\n",
      "\n",
      "+-------------------+\n",
      "|max(outputMsgCount)|\n",
      "+-------------------+\n",
      "|              21612|\n",
      "+-------------------+\n",
      "\n",
      "+-------------------+\n",
      "|avg(outputMsgCount)|\n",
      "+-------------------+\n",
      "|  983.2361623616237|\n",
      "+-------------------+\n",
      "\n",
      "+-------------------+--------------+\n",
      "|               time|outputMsgCount|\n",
      "+-------------------+--------------+\n",
      "|2019-12-15 15:13:11|          8804|\n",
      "|2019-12-15 15:13:12|          3296|\n",
      "|2019-12-15 15:13:16|          7415|\n",
      "|2019-12-15 15:13:17|          6291|\n",
      "|2019-12-15 15:13:18|          4194|\n",
      "|2019-12-15 15:13:19|          3438|\n",
      "|2019-12-15 15:13:22|          6585|\n",
      "|2019-12-15 15:13:23|         10384|\n",
      "|2019-12-15 15:13:24|          5634|\n",
      "|2019-12-15 15:13:25|          6757|\n",
      "|2019-12-15 15:13:26|          7029|\n",
      "|2019-12-15 15:13:27|            22|\n",
      "|2019-12-15 15:13:29|          5069|\n",
      "|2019-12-15 15:13:30|          9822|\n",
      "|2019-12-15 15:13:31|          8688|\n",
      "|2019-12-15 15:13:32|         12108|\n",
      "|2019-12-15 15:13:33|          6678|\n",
      "|2019-12-15 15:13:36|         11848|\n",
      "|2019-12-15 15:13:37|         15848|\n",
      "|2019-12-15 15:13:38|         12551|\n",
      "+-------------------+--------------+\n",
      "only showing top 20 rows\n",
      "\n",
      "KAFKASTREAMS\n",
      "finishing time\n",
      "+----------------+\n",
      "|    max(timeSec)|\n",
      "+----------------+\n",
      "|9.94345000013709|\n",
      "+----------------+\n",
      "\n",
      "+-------------------+\n",
      "|max(outputMsgCount)|\n",
      "+-------------------+\n",
      "|               9096|\n",
      "+-------------------+\n",
      "\n",
      "+-------------------+\n",
      "|avg(outputMsgCount)|\n",
      "+-------------------+\n",
      "|  709.9119170984455|\n",
      "+-------------------+\n",
      "\n",
      "+-------------------+--------------+\n",
      "|               time|outputMsgCount|\n",
      "+-------------------+--------------+\n",
      "|2019-12-16 19:32:16|            39|\n",
      "|2019-12-16 19:32:17|            30|\n",
      "|2019-12-16 19:32:18|             2|\n",
      "|2019-12-16 19:32:19|            33|\n",
      "|2019-12-16 19:32:20|             6|\n",
      "|2019-12-16 19:32:21|            15|\n",
      "|2019-12-16 19:32:22|             7|\n",
      "|2019-12-16 19:32:23|            55|\n",
      "|2019-12-16 19:32:26|           452|\n",
      "|2019-12-16 19:32:27|           690|\n",
      "|2019-12-16 19:32:28|           547|\n",
      "|2019-12-16 19:32:29|           182|\n",
      "|2019-12-16 19:32:30|           228|\n",
      "|2019-12-16 19:32:31|          1437|\n",
      "|2019-12-16 19:32:32|           739|\n",
      "|2019-12-16 19:32:33|          1563|\n",
      "|2019-12-16 19:32:34|          1052|\n",
      "|2019-12-16 19:32:35|           987|\n",
      "|2019-12-16 19:32:36|          1259|\n",
      "|2019-12-16 19:32:37|          2039|\n",
      "+-------------------+--------------+\n",
      "only showing top 20 rows\n",
      "\n",
      "SPARK\n",
      "finishing time\n",
      "+------------------+\n",
      "|      max(timeSec)|\n",
      "+------------------+\n",
      "|10.116900000721216|\n",
      "+------------------+\n",
      "\n",
      "+-------------------+\n",
      "|max(outputMsgCount)|\n",
      "+-------------------+\n",
      "|             110356|\n",
      "+-------------------+\n",
      "\n",
      "+-------------------+\n",
      "|avg(outputMsgCount)|\n",
      "+-------------------+\n",
      "| 1199.0593692022264|\n",
      "+-------------------+\n",
      "\n",
      "+-------------------+--------------+\n",
      "|               time|outputMsgCount|\n",
      "+-------------------+--------------+\n",
      "|2019-12-10 19:46:49|         15552|\n",
      "|2019-12-10 19:46:50|         66970|\n",
      "|2019-12-10 19:46:51|         86977|\n",
      "|2019-12-10 19:46:52|         93392|\n",
      "|2019-12-10 19:46:53|         81399|\n",
      "|2019-12-10 19:46:54|        110356|\n",
      "|2019-12-10 19:46:55|         92430|\n",
      "|2019-12-10 19:46:56|          7935|\n",
      "|2019-12-10 19:46:57|          1743|\n",
      "|2019-12-10 19:46:58|          1901|\n",
      "|2019-12-10 19:46:59|          3829|\n",
      "|2019-12-10 19:47:00|          1912|\n",
      "|2019-12-10 19:47:01|          2727|\n",
      "|2019-12-10 19:47:02|          3045|\n",
      "|2019-12-10 19:47:03|          1894|\n",
      "|2019-12-10 19:47:04|          3730|\n",
      "|2019-12-10 19:47:05|           477|\n",
      "|2019-12-10 19:47:06|           358|\n",
      "|2019-12-10 19:47:07|           354|\n",
      "|2019-12-10 19:47:08|           476|\n",
      "+-------------------+--------------+\n",
      "only showing top 20 rows\n",
      "\n",
      "STRUCTUREDSTREAMING\n",
      "finishing time\n",
      "+------------------+\n",
      "|      max(timeSec)|\n",
      "+------------------+\n",
      "|10.125233333557844|\n",
      "+------------------+\n",
      "\n",
      "+-------------------+\n",
      "|max(outputMsgCount)|\n",
      "+-------------------+\n",
      "|             149368|\n",
      "+-------------------+\n",
      "\n",
      "+-------------------+\n",
      "|avg(outputMsgCount)|\n",
      "+-------------------+\n",
      "| 1301.4084507042253|\n",
      "+-------------------+\n",
      "\n",
      "+-------------------+--------------+\n",
      "|               time|outputMsgCount|\n",
      "+-------------------+--------------+\n",
      "|2019-12-12 16:56:17|           649|\n",
      "|2019-12-12 16:56:18|         49451|\n",
      "|2019-12-12 16:56:19|        131955|\n",
      "|2019-12-12 16:56:20|        149368|\n",
      "|2019-12-12 16:56:21|        148184|\n",
      "|2019-12-12 16:56:22|         78191|\n",
      "|2019-12-12 16:56:23|           922|\n",
      "|2019-12-12 16:56:25|         20160|\n",
      "|2019-12-12 16:56:27|          1200|\n",
      "|2019-12-12 16:56:28|           360|\n",
      "|2019-12-12 16:56:29|           120|\n",
      "|2019-12-12 16:56:31|           240|\n",
      "|2019-12-12 16:56:33|           120|\n",
      "|2019-12-12 16:56:34|           240|\n",
      "|2019-12-12 16:56:36|           120|\n",
      "|2019-12-12 16:56:37|           240|\n",
      "|2019-12-12 16:56:38|           120|\n",
      "|2019-12-12 16:56:39|           120|\n",
      "|2019-12-12 16:56:40|           240|\n",
      "|2019-12-12 16:56:41|           120|\n",
      "+-------------------+--------------+\n",
      "only showing top 20 rows\n",
      "\n"
     ]
    }
   ],
   "source": [
    "for framework in frameworks:\n",
    "    try:\n",
    "        print(framework)\n",
    "        print(\"finishing time\")\n",
    "        throughputTimeseriesDataWithStartup[framework].select(\"timeSec\").agg(max(\"timeSec\")).show()\n",
    "        throughputTimeseriesDataWithStartup[framework].select(\"outputMsgCount\").agg(max(\"outputMsgCount\")).show()\n",
    "        throughputTimeseriesDataWithStartup[framework].select(\"outputMsgCount\").agg(avg(\"outputMsgCount\")).show()\n",
    "        throughputTimeseriesDataWithStartup[framework].orderBy(\"time\").select(\"time\", \"outputMsgCount\").show()\n",
    "    except:\n",
    "        print(\"no data for \" +  framework + \" for stage \" + str(phase))"
   ]
  },
  {
   "cell_type": "markdown",
   "metadata": {},
   "source": [
    "# CPU "
   ]
  },
  {
   "cell_type": "code",
   "execution_count": 188,
   "metadata": {
    "collapsed": true
   },
   "outputs": [],
   "source": [
    "cpuTimeseries = dict()\n",
    "for framework in frameworks:\n",
    "        try:\n",
    "            cpuTimeseriesForPhase = spark.read.option(\"header\", \"true\").option(\"inferSchema\", \"true\") \\\n",
    "                .csv(dataPath[framework] + \"/cpu-per-container-timeseries.csv/*\") \\\n",
    "                .withColumn(\"timeParsed\", datetimeFromEpochUDF(col(\"time\")))\n",
    "            minTime = completeResults[framework].toPandas()['startTime'][0]\n",
    "            minTimeSec = minTime/60000.0\n",
    "            cpuTimeseries[framework] = cpuTimeseriesForPhase.withColumn(\"timeSec\", (col(\"time\")/60000.0)-minTimeSec)\n",
    "        except:\n",
    "            print(\"didnt work for \" + framework )"
   ]
  },
  {
   "cell_type": "code",
   "execution_count": 189,
   "metadata": {
    "collapsed": true
   },
   "outputs": [],
   "source": [
    "containersPandas = dict()\n",
    "for framework in frameworks:\n",
    "        containersPandas[framework] = cpuTimeseries[framework].select(\"containerName\").distinct().toPandas()"
   ]
  },
  {
   "cell_type": "code",
   "execution_count": 190,
   "metadata": {
    "collapsed": true
   },
   "outputs": [],
   "source": [
    "# Map label to RGB\n",
    "color_map = dict()\n",
    "for framework in frameworks:\n",
    "        #Assign different color to each container\n",
    "        rgb_values = sns.diverging_palette(255, 133, l=60, n=len(containersPandas[framework]), center=\"dark\")\n",
    "        color_map[framework] = dict(zip(containersPandas[framework]['containerName'], rgb_values))"
   ]
  },
  {
   "cell_type": "code",
   "execution_count": 191,
   "metadata": {
    "collapsed": true
   },
   "outputs": [],
   "source": [
    "# Map label to RGB\n",
    "color_map = dict()\n",
    "for framework in frameworks:\n",
    "    #Assign different color to each container:\n",
    "        rgb_values = sns.husl_palette(len(containersPandas[framework]), h=0.4, l=0.65, s=1) \n",
    "        color_map[framework] = dict(zip(containersPandas[framework]['containerName'], rgb_values))"
   ]
  },
  {
   "cell_type": "markdown",
   "metadata": {},
   "source": [
    "## CPU usage distribution"
   ]
  },
  {
   "cell_type": "code",
   "execution_count": 192,
   "metadata": {
    "collapsed": true
   },
   "outputs": [],
   "source": [
    "containersPandasPerPhase = dict()\n",
    "for framework in frameworks:\n",
    "        containersPandasPerPhase[framework] = cpuTimeseries[framework] \\\n",
    "            .select(\"containerName\").distinct().orderBy(\"containerName\").toPandas()"
   ]
  },
  {
   "cell_type": "code",
   "execution_count": 193,
   "metadata": {
    "collapsed": true
   },
   "outputs": [],
   "source": [
    "workerCpuTimeseriesDataWithStartup = dict()\n",
    "for framework in frameworks:\n",
    "        workerCpuTimeseriesDataWithStartupForPhase = spark.read.option(\"header\", \"true\").option(\"inferSchema\", \"true\") \\\n",
    "            .csv(dataPath[framework] + \"/cpu-total-timeseries.csv/*\") \\\n",
    "            .withColumn(\"time\", datetimeFromEpochUDF(col(\"outputKafkaTimestampFiveSecondBucket\")))\n",
    "            \n",
    "        minTime = completeResults[framework].toPandas()['startTime'][0]\n",
    "        minTimeSec = minTime/60000.0\n",
    "        workerCpuTimeseriesDataWithStartup[framework] = workerCpuTimeseriesDataWithStartupForPhase.withColumn(\"timeSec\", (col(\"outputKafkaTimestampFiveSecondBucket\")/60000.0)-minTimeSec)"
   ]
  },
  {
   "cell_type": "markdown",
   "metadata": {},
   "source": [
    "# Memory "
   ]
  },
  {
   "cell_type": "markdown",
   "metadata": {},
   "source": [
    "## Memory Distribution"
   ]
  },
  {
   "cell_type": "code",
   "execution_count": 194,
   "metadata": {
    "collapsed": true
   },
   "outputs": [],
   "source": [
    "workerMemoryTimeseriesDataWithStartup = dict()\n",
    "for framework in frameworks: \n",
    "        workerMemoryTimeseriesDataWithStartupForPhase = spark.read.option(\"header\", \"true\").option(\"inferSchema\", \"true\") \\\n",
    "            .csv(dataPath[framework] + \"/resources-total-timeseries.csv/*\") \\\n",
    "            .withColumn(\"time\", datetimeFromEpochUDF(col(\"outputKafkaTimestampFiveSecondBucket\")))\n",
    "            \n",
    "        minTime = completeResults[framework].toPandas()['startTime'][0]\n",
    "        minTimeSec = minTime/60000.0\n",
    "        workerMemoryTimeseriesDataWithStartup[framework] = workerMemoryTimeseriesDataWithStartupForPhase.withColumn(\"timeSec\", (col(\"outputKafkaTimestampFiveSecondBucket\")/60000.0)-minTimeSec)"
   ]
  },
  {
   "cell_type": "code",
   "execution_count": 195,
   "metadata": {
    "collapsed": true
   },
   "outputs": [],
   "source": [
    "workerMemoryTimeseriesDataWithStartup = dict()\n",
    "for framework in frameworks:\n",
    "        workerMemoryTimeseriesDataWithStartupForPhase = spark.read.option(\"header\", \"true\").option(\"inferSchema\", \"true\") \\\n",
    "            .csv(dataPath[framework] + \"/resources-total-timeseries.csv/*\") \\\n",
    "            .withColumn(\"time\", datetimeFromEpochUDF(col(\"outputKafkaTimestampFiveSecondBucket\")))\n",
    "                   \n",
    "        minTime = completeResults[framework].toPandas()['startTime'][0]\n",
    "        minTimeSec = minTime/60000.0\n",
    "        workerMemoryTimeseriesDataWithStartup[framework] = workerMemoryTimeseriesDataWithStartupForPhase.withColumn(\"timeSec\", (col(\"outputKafkaTimestampFiveSecondBucket\")/60000.0)-minTimeSec)\n",
    "        \n",
    "workerMemoryTimeseriesDataWithoutStartup = dict()\n",
    "for framework in frameworks:\n",
    "        memoryTimeseriesDataPhase = workerMemoryTimeseriesDataWithStartup[framework]\n",
    "        if len(memoryTimeseriesDataPhase.head(1)) > 0:\n",
    "            startTime = memoryTimeseriesDataPhase.agg(min(\"outputKafkaTimestampFiveSecondBucket\")).collect()[0][0]\n",
    "            memoryWithoutStartup = memoryTimeseriesDataPhase \\\n",
    "                .filter(col(\"outputKafkaTimestampFiveSecondBucket\")>startTime + 120000)  \n",
    "            \n",
    "            minTime = completeResults[framework].toPandas()['startTime'][0]\n",
    "            minTimeSec = minTime/60000.0\n",
    "            workerMemoryTimeseriesDataWithoutStartup[framework] = memoryWithoutStartup.withColumn(\"timeSec\", (col(\"outputKafkaTimestampFiveSecondBucket\")/60000.0)-minTimeSec)\n",
    "        \n",
    "        else:\n",
    "            print(\"No data for stage \" + str(i))"
   ]
  },
  {
   "cell_type": "code",
   "execution_count": 196,
   "metadata": {
    "collapsed": true
   },
   "outputs": [],
   "source": [
    "memoryTimeseriesDataWithStartup = dict()\n",
    "for framework in frameworks:\n",
    "        memoryTimeseriesDataWithStartupForPhase = spark.read.option(\"header\", \"true\").option(\"inferSchema\", \"true\") \\\n",
    "            .csv(dataPath[framework] + \"/resources-per-container-timeseries.csv/*\") \\\n",
    "            .withColumn(\"timeParsed\", datetimeFromEpochUDF(col(\"time\")))\n",
    "                   \n",
    "        minTime = completeResults[framework].toPandas()['startTime'][0]\n",
    "        minTimeSec = minTime/60000.0\n",
    "        memoryTimeseriesDataWithStartup[framework] = memoryTimeseriesDataWithStartupForPhase.withColumn(\"timeSec\", (col(\"time\")/60000.0)-minTimeSec)            \n"
   ]
  },
  {
   "cell_type": "markdown",
   "metadata": {},
   "source": [
    "# Metric correlations\n",
    "Plotting different metrics for a certain stage together."
   ]
  },
  {
   "cell_type": "markdown",
   "metadata": {},
   "source": [
    "For generating a chart of the four metrics"
   ]
  },
  {
   "cell_type": "code",
   "execution_count": 197,
   "metadata": {
    "collapsed": true
   },
   "outputs": [],
   "source": [
    "def generateSingleBurstOverviewChart(colNum, f, containersPandas, throughputPandas, inputThroughputPandas, memoryForPlot, cpuForPlot):\n",
    "    x_axis_max = 3 \n",
    "    \n",
    "    minor_x_locator = AutoMinorLocator(2) # how many minor grid lines in between two major grid lines for x axis\n",
    "    \n",
    "    tp_line1, = ax[0, colNum].plot(throughputPandas[\"timeSec\"], throughputPandas[\"outputMsgCount\"].divide(1000), label = \"output\", color=\"#151515\", linestyle=\"solid\")\n",
    "    ax[0, colNum].set_ylim(ymin=0, ymax=300)\n",
    "    ax[0, colNum].xaxis.set_minor_locator(minor_x_locator)\n",
    "    minor_y_locator_1 = AutoMinorLocator(2) # how many minor grid lines in between two major grid lines for y axis\n",
    "    ax[0, colNum].yaxis.set_minor_locator(minor_y_locator_1)\n",
    "    ax[0, colNum].grid(which='minor', color='black')\n",
    "    \n",
    "    cpuTimeseriesDataWithStartupPhase = cpuTimeseries[framework].toPandas()\n",
    "    # Add a color column that gives color to the dots\n",
    "    for contNum, containerId in enumerate(containersPandasPerPhase[framework]['containerName']):\n",
    "        if \"FLINK\" in framework: label = \"taskmanager-\" + str(contNum)\n",
    "        else: label = containerId\n",
    "        data = cpuTimeseriesDataWithStartupPhase.loc[cpuTimeseriesDataWithStartupPhase['containerName'] == containerId]\n",
    "        cpu_worker_line, = ax[1, colNum].plot(data['timeSec'], data['cpuUsagePct'], \n",
    "             c=\"#282828\", linestyle=\":\", label=\"cpu for each worker\")\n",
    "    \n",
    "    ax[1, colNum].set_ylim(ymin=0, ymax=110)\n",
    "    ax[1, colNum].xaxis.set_minor_locator(minor_x_locator)\n",
    "    minor_y_locator_2 = AutoMinorLocator(4) # how many minor grid lines in between two major grid lines for y axis\n",
    "    ax[1, colNum].yaxis.set_minor_locator(minor_y_locator_2)\n",
    "    ax[1, colNum].grid(which='minor', color='black')\n",
    "    ax[1, colNum].get_yaxis().set_major_formatter(\n",
    "         matplotlib.ticker.FuncFormatter(lambda x, p: str(int(x)) + \" %\"))\n",
    "\n",
    "    mem_line1, = ax[2, colNum].plot(memoryForPlot['timeSec'], memoryForPlot['totalAvgMemUsageMB'], color=\"#7e7e7e\", linestyle=\"solid\", label = \"average heap memory\")\n",
    "    mem_line2, = ax[2, colNum].plot(memoryForPlot['timeSec'], memoryForPlot['totalMaxMemUsageMB'], color=\"#151515\", linestyle=\"solid\", label = \"max heap memory\")\n",
    "    \n",
    "    sortedDf = memoryTimeseriesDataWithStartup[framework]\\\n",
    "        .filter(col(\"timeSec\") <3).orderBy(\"timeSec\").toPandas()\n",
    "    for contNum, containerId in enumerate(containersPandasPerPhase[framework]['containerName']):\n",
    "        if \"FLINK\" in framework: label = \"taskmanager-\" + str(contNum)\n",
    "        else: label = containerId\n",
    "        data = sortedDf.loc[sortedDf['containerName'] == containerId]\n",
    "        mem_worker_line, = ax[2, colNum].plot(data['timeSec'], \n",
    "             data['heapUsageMB'], c=\"#282828\", linestyle=\":\", label=\"heap workers\")\n",
    "    ax[2, colNum].set_ylim(ymin=0, ymax=12*1024)\n",
    "    ax[2, colNum].set_yticks([0, 10*1024])\n",
    "    ax[2, colNum].get_yaxis().set_major_formatter(\n",
    "         matplotlib.ticker.FuncFormatter(lambda x, p: format(int(x/1024.0), ',').replace(',', ' ') + \" GB\"))\n",
    "\n",
    "    ax[2, colNum].set_xlabel(\"minutes\")\n",
    "    ax[2, colNum].xaxis.set_minor_locator(minor_x_locator)\n",
    "    minor_y_locator_3 = AutoMinorLocator(4) # how many minor grid lines in between two major grid lines for y axis\n",
    "    ax[2, colNum].yaxis.set_minor_locator(minor_y_locator_3)\n",
    "    ax[2, colNum].grid(which='minor', color='black')\n",
    "    ax[2, colNum].set_xlim(xmin=0, xmax=x_axis_max)\n",
    "    ax[2, colNum].set_xticks(range(0, x_axis_max))\n",
    "    \n",
    "    processingTime = throughputTimeseriesDataWithStartup[framework].filter((col(\"outputBucketTime\") > col(\"startTime\") + 20000) & (col(\"outputMsgCount\")>1000)) \\\n",
    "        .withColumn(\"processingTime\", (col(\"outputBucketTime\") - col(\"startTime\"))/1000.0 ) \\\n",
    "        .agg(max(\"processingTime\").alias(\"processingTime\")).toPandas()[\"processingTime\"][0]\n",
    "    initialDataTime = throughputTimeseriesDataWithStartup[framework] \\\n",
    "        .agg(min(\"outputBucketTime\").alias(\"outputBucketTime\"), min(\"startTime\").alias(\"startTime\")) \\\n",
    "        .withColumn(\"initialDataTime\", (col(\"outputBucketTime\") - col(\"startTime\"))/1000.0).toPandas()[\"initialDataTime\"][0]\n",
    "\n",
    "    print(framework + \" processing time \" + str(processingTime))\n",
    "    f.write(framework + \" processing time \" + str(processingTime) + \"\\n\")\n",
    "    print(framework + \" initialData time \" + str(initialDataTime))\n",
    "    f.write(framework + \" initialData time \" + str(initialDataTime) + \"\\n\")\n",
    "    print(framework + \" total count \" + str(completeResults[framework].toPandas()[\"count\"][0]))\n",
    "    f.write(framework + \" total count \" + str(completeResults[framework].toPandas()[\"count\"][0]) + \"\\n\")\n",
    "    ax[0, colNum].axvspan(processingTime/60.0, x_axis_max, color = 'grey', alpha=0.5)\n",
    "    ax[1, colNum].axvspan(processingTime/60.0, x_axis_max, color = 'grey', alpha=0.5)\n",
    "    ax[2, colNum].axvspan(processingTime/60.0, x_axis_max, color = 'grey', alpha=0.5)\n",
    "\n",
    "    if (colNum == 0):\n",
    "        ax[0, colNum].set_ylabel(r'throughput' + \"\\nx1000 msg/s\")\n",
    "        ax[1, colNum].set_ylabel(r'CPU')\n",
    "        ax[2, colNum].set_ylabel(r'mem')\n",
    "    \n",
    "    if (colNum == len(frameworks)-1):\n",
    "        ax[0, colNum].legend(loc = \"upper right\", ncol=2, bbox_to_anchor=(1, 1.5), framealpha=0.5, frameon=False)\n",
    "        ax[1, colNum].legend([cpu_worker_line], [\"per worker\"], loc = \"upper right\", ncol=3, bbox_to_anchor=(1, 1.5), frameon=False)\n",
    "        ax[2, colNum].legend([mem_line1, mem_line2, mem_worker_line], [\"average\", \"max\", \"per worker\"], loc = \"upper right\", ncol=3, bbox_to_anchor=(1, 1.5), frameon=False)"
   ]
  },
  {
   "cell_type": "code",
   "execution_count": 198,
   "metadata": {},
   "outputs": [
    {
     "name": "stdout",
     "output_type": "stream",
     "text": [
      "FLINK processing time 81.318\n",
      "FLINK initialData time 16.318\n",
      "FLINK total count 532914\n",
      "KAFKASTREAMS processing time 118.607\n",
      "KAFKASTREAMS initialData time 16.607\n",
      "KAFKASTREAMS total count 411039\n",
      "SPARK processing time 84.014\n",
      "SPARK initialData time 69.014\n",
      "SPARK total count 646293\n",
      "STRUCTUREDSTREAMING processing time 54.514\n",
      "STRUCTUREDSTREAMING initialData time 44.514\n",
      "STRUCTUREDSTREAMING total count 646800\n"
     ]
    },
    {
     "data": {
      "image/png": "[encoded data removed]",
      "text/plain": [
       "<Figure size 504x360 with 12 Axes>"
      ]
     },
     "metadata": {},
     "output_type": "display_data"
    }
   ],
   "source": [
    "frameworksPrintable = {\n",
    "    \"SPARK\": \"Spark Str.\", \n",
    "    \"STRUCTUREDSTREAMING\":\"Structured Str.\", \n",
    "    \"FLINK\": \"Flink\", \n",
    "    \"KAFKASTREAMS\": \"Kafka Str.\"   \n",
    "}\n",
    "\n",
    "f, ax = plt.subplots(3, len(frameworks),figsize=(7, 5), sharey='row', sharex='col')\n",
    "pad = 5\n",
    "\n",
    "f = open(\"./figures/single-burst/overall/phase\" + str(NOTEBOOK_PHASE) \n",
    "                               + \"/single-burst-results-phase\" + str(NOTEBOOK_PHASE) + \".txt\", \"w\")\n",
    "for j, framework in enumerate(frameworks):\n",
    "#     try: \n",
    "        throughputData = throughputTimeseriesDataWithStartup[framework] \\\n",
    "            .filter(col(\"timeSec\") <4).toPandas()\n",
    "        inputThroughputData = inputThroughputTimeseriesDataWithStartup[framework] \\\n",
    "            .filter(col(\"timeSec\") <4).toPandas()\n",
    "        cpuData = workerCpuTimeseriesDataWithStartup[framework] \\\n",
    "            .filter(col(\"timeSec\") <4).toPandas()\n",
    "        memoryData = workerMemoryTimeseriesDataWithStartup[framework] \\\n",
    "            .filter(col(\"timeSec\") <4).toPandas()\n",
    "\n",
    "        generateSingleBurstOverviewChart(j, f, containersPandas=containersPandas, \\\n",
    "                               throughputPandas=throughputData, \\\n",
    "                               inputThroughputPandas=inputThroughputData, \\\n",
    "                               cpuForPlot=cpuData, \\\n",
    "                               memoryForPlot=memoryData)\n",
    "        ax[0, j].annotate(frameworksPrintable[framework], xy=(0.5, 1.3), xytext=(0, pad),\n",
    "                xycoords='axes fraction', textcoords='offset points',\n",
    "                size='medium', ha='center', va='baseline', weight=\"bold\")\n",
    "#     except:\n",
    "#         print(\"didnt work \")\n",
    "f.close()\n",
    "\n",
    "plt.subplots_adjust(wspace=0.16, hspace=0.50)\n",
    "save_img_colored_and_grayscale(\"./figures/single-burst/overall/phase\" + str(NOTEBOOK_PHASE) \n",
    "                               + \"/singleBurstMetricsOverview_phase\" + str(NOTEBOOK_PHASE))\n",
    "plt.show()"
   ]
  },
  {
   "cell_type": "code",
   "execution_count": null,
   "metadata": {
    "collapsed": true
   },
   "outputs": [],
   "source": []
  },
  {
   "cell_type": "code",
   "execution_count": null,
   "metadata": {
    "collapsed": true
   },
   "outputs": [],
   "source": []
  }
 ],
 "metadata": {
  "kernelspec": {
   "display_name": "Python 3",
   "language": "python",
   "name": "python3"
  },
  "language_info": {
   "codemirror_mode": {
    "name": "ipython",
    "version": 3
   },
   "file_extension": ".py",
   "mimetype": "text/x-python",
   "name": "python",
   "nbconvert_exporter": "python",
   "pygments_lexer": "ipython3",
   "version": "3.6.6"
  }
 },
 "nbformat": 4,
 "nbformat_minor": 2
}
